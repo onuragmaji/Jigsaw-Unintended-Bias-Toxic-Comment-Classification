{
  "nbformat": 4,
  "nbformat_minor": 0,
  "metadata": {
    "kernelspec": {
      "name": "python3",
      "display_name": "Python 3"
    },
    "language_info": {
      "codemirror_mode": {
        "name": "ipython",
        "version": 3
      },
      "file_extension": ".py",
      "mimetype": "text/x-python",
      "name": "python",
      "nbconvert_exporter": "python",
      "pygments_lexer": "ipython3",
      "version": "3.6.5"
    },
    "colab": {
      "name": "Jigsaw2.ipynb",
      "version": "0.3.2",
      "provenance": [],
      "collapsed_sections": [],
      "machine_shape": "hm"
    },
    "accelerator": "GPU"
  },
  "cells": [
    {
      "cell_type": "markdown",
      "metadata": {
        "id": "8EokSNxD3O7m",
        "colab_type": "text"
      },
      "source": [
        "# Problem Statement.\n",
        "## Given a comment classify it into toxic or non-toxic. Here toxic means comments that are unacceptable to a person or a community.\n",
        "\n",
        "## This project was inspired from the jigsaw unintended bias toxic comment classification which was hosted on kaggle."
      ]
    },
    {
      "cell_type": "markdown",
      "metadata": {
        "id": "H0p9huIa3086",
        "colab_type": "text"
      },
      "source": [
        "# The problem that we are solving here.\n",
        "## Background : \n",
        "### This problem was also solved earlier but there was a problem with the system . The system was a bit biased towards the use of unparliamentary/abusive words.\n",
        "### For example a sentence \"I am a gay\" or \"I am a black man.\" were classified as toxic comments. \n",
        "### Therefore the challenge was to get rid of this bias. To solve this problem a new metric was introduced by jigsaw. This metric also considers the identity of the person about whom the comment is made. You can get into  the details of the metric on the below link.\n",
        "<a href=\"https://www.kaggle.com/c/jigsaw-unintended-bias-in-toxicity-classification/overview/evaluation\">Click Here</a>\n"
      ]
    },
    {
      "cell_type": "markdown",
      "metadata": {
        "id": "2WHF2FAsYj8L",
        "colab_type": "text"
      },
      "source": [
        "# Exploratory  Data Analysis"
      ]
    },
    {
      "cell_type": "code",
      "metadata": {
        "id": "en1qQYZT29rn",
        "colab_type": "code",
        "outputId": "e664bdd7-c116-456f-caa9-68f259f478c8",
        "colab": {
          "base_uri": "https://localhost:8080/",
          "height": 34
        }
      },
      "source": [
        "from google.colab import drive\n",
        "drive.mount('/content/drive')"
      ],
      "execution_count": 67,
      "outputs": [
        {
          "output_type": "stream",
          "text": [
            "Drive already mounted at /content/drive; to attempt to forcibly remount, call drive.mount(\"/content/drive\", force_remount=True).\n"
          ],
          "name": "stdout"
        }
      ]
    },
    {
      "cell_type": "code",
      "metadata": {
        "id": "HtMXpvJcYj8N",
        "colab_type": "code",
        "outputId": "f5735f3f-2bf6-49ea-d785-72aca3b95d77",
        "colab": {
          "base_uri": "https://localhost:8080/",
          "height": 462
        }
      },
      "source": [
        "import pandas as pd\n",
        "df = pd.read_csv(\"/content/drive/My Drive/Project/train.csv\")\n",
        "df.head()"
      ],
      "execution_count": 68,
      "outputs": [
        {
          "output_type": "execute_result",
          "data": {
            "text/html": [
              "<div>\n",
              "<style scoped>\n",
              "    .dataframe tbody tr th:only-of-type {\n",
              "        vertical-align: middle;\n",
              "    }\n",
              "\n",
              "    .dataframe tbody tr th {\n",
              "        vertical-align: top;\n",
              "    }\n",
              "\n",
              "    .dataframe thead th {\n",
              "        text-align: right;\n",
              "    }\n",
              "</style>\n",
              "<table border=\"1\" class=\"dataframe\">\n",
              "  <thead>\n",
              "    <tr style=\"text-align: right;\">\n",
              "      <th></th>\n",
              "      <th>id</th>\n",
              "      <th>target</th>\n",
              "      <th>comment_text</th>\n",
              "      <th>severe_toxicity</th>\n",
              "      <th>obscene</th>\n",
              "      <th>identity_attack</th>\n",
              "      <th>insult</th>\n",
              "      <th>threat</th>\n",
              "      <th>asian</th>\n",
              "      <th>atheist</th>\n",
              "      <th>bisexual</th>\n",
              "      <th>black</th>\n",
              "      <th>buddhist</th>\n",
              "      <th>christian</th>\n",
              "      <th>female</th>\n",
              "      <th>heterosexual</th>\n",
              "      <th>hindu</th>\n",
              "      <th>homosexual_gay_or_lesbian</th>\n",
              "      <th>intellectual_or_learning_disability</th>\n",
              "      <th>jewish</th>\n",
              "      <th>latino</th>\n",
              "      <th>male</th>\n",
              "      <th>muslim</th>\n",
              "      <th>other_disability</th>\n",
              "      <th>other_gender</th>\n",
              "      <th>other_race_or_ethnicity</th>\n",
              "      <th>other_religion</th>\n",
              "      <th>other_sexual_orientation</th>\n",
              "      <th>physical_disability</th>\n",
              "      <th>psychiatric_or_mental_illness</th>\n",
              "      <th>transgender</th>\n",
              "      <th>white</th>\n",
              "      <th>created_date</th>\n",
              "      <th>publication_id</th>\n",
              "      <th>parent_id</th>\n",
              "      <th>article_id</th>\n",
              "      <th>rating</th>\n",
              "      <th>funny</th>\n",
              "      <th>wow</th>\n",
              "      <th>sad</th>\n",
              "      <th>likes</th>\n",
              "      <th>disagree</th>\n",
              "      <th>sexual_explicit</th>\n",
              "      <th>identity_annotator_count</th>\n",
              "      <th>toxicity_annotator_count</th>\n",
              "    </tr>\n",
              "  </thead>\n",
              "  <tbody>\n",
              "    <tr>\n",
              "      <th>0</th>\n",
              "      <td>59848</td>\n",
              "      <td>0.000000</td>\n",
              "      <td>This is so cool. It's like, 'would you want yo...</td>\n",
              "      <td>0.000000</td>\n",
              "      <td>0.0</td>\n",
              "      <td>0.000000</td>\n",
              "      <td>0.00000</td>\n",
              "      <td>0.0</td>\n",
              "      <td>NaN</td>\n",
              "      <td>NaN</td>\n",
              "      <td>NaN</td>\n",
              "      <td>NaN</td>\n",
              "      <td>NaN</td>\n",
              "      <td>NaN</td>\n",
              "      <td>NaN</td>\n",
              "      <td>NaN</td>\n",
              "      <td>NaN</td>\n",
              "      <td>NaN</td>\n",
              "      <td>NaN</td>\n",
              "      <td>NaN</td>\n",
              "      <td>NaN</td>\n",
              "      <td>NaN</td>\n",
              "      <td>NaN</td>\n",
              "      <td>NaN</td>\n",
              "      <td>NaN</td>\n",
              "      <td>NaN</td>\n",
              "      <td>NaN</td>\n",
              "      <td>NaN</td>\n",
              "      <td>NaN</td>\n",
              "      <td>NaN</td>\n",
              "      <td>NaN</td>\n",
              "      <td>NaN</td>\n",
              "      <td>2015-09-29 10:50:41.987077+00</td>\n",
              "      <td>2</td>\n",
              "      <td>NaN</td>\n",
              "      <td>2006</td>\n",
              "      <td>rejected</td>\n",
              "      <td>0</td>\n",
              "      <td>0</td>\n",
              "      <td>0</td>\n",
              "      <td>0</td>\n",
              "      <td>0</td>\n",
              "      <td>0.0</td>\n",
              "      <td>0</td>\n",
              "      <td>4</td>\n",
              "    </tr>\n",
              "    <tr>\n",
              "      <th>1</th>\n",
              "      <td>59849</td>\n",
              "      <td>0.000000</td>\n",
              "      <td>Thank you!! This would make my life a lot less...</td>\n",
              "      <td>0.000000</td>\n",
              "      <td>0.0</td>\n",
              "      <td>0.000000</td>\n",
              "      <td>0.00000</td>\n",
              "      <td>0.0</td>\n",
              "      <td>NaN</td>\n",
              "      <td>NaN</td>\n",
              "      <td>NaN</td>\n",
              "      <td>NaN</td>\n",
              "      <td>NaN</td>\n",
              "      <td>NaN</td>\n",
              "      <td>NaN</td>\n",
              "      <td>NaN</td>\n",
              "      <td>NaN</td>\n",
              "      <td>NaN</td>\n",
              "      <td>NaN</td>\n",
              "      <td>NaN</td>\n",
              "      <td>NaN</td>\n",
              "      <td>NaN</td>\n",
              "      <td>NaN</td>\n",
              "      <td>NaN</td>\n",
              "      <td>NaN</td>\n",
              "      <td>NaN</td>\n",
              "      <td>NaN</td>\n",
              "      <td>NaN</td>\n",
              "      <td>NaN</td>\n",
              "      <td>NaN</td>\n",
              "      <td>NaN</td>\n",
              "      <td>NaN</td>\n",
              "      <td>2015-09-29 10:50:42.870083+00</td>\n",
              "      <td>2</td>\n",
              "      <td>NaN</td>\n",
              "      <td>2006</td>\n",
              "      <td>rejected</td>\n",
              "      <td>0</td>\n",
              "      <td>0</td>\n",
              "      <td>0</td>\n",
              "      <td>0</td>\n",
              "      <td>0</td>\n",
              "      <td>0.0</td>\n",
              "      <td>0</td>\n",
              "      <td>4</td>\n",
              "    </tr>\n",
              "    <tr>\n",
              "      <th>2</th>\n",
              "      <td>59852</td>\n",
              "      <td>0.000000</td>\n",
              "      <td>This is such an urgent design problem; kudos t...</td>\n",
              "      <td>0.000000</td>\n",
              "      <td>0.0</td>\n",
              "      <td>0.000000</td>\n",
              "      <td>0.00000</td>\n",
              "      <td>0.0</td>\n",
              "      <td>NaN</td>\n",
              "      <td>NaN</td>\n",
              "      <td>NaN</td>\n",
              "      <td>NaN</td>\n",
              "      <td>NaN</td>\n",
              "      <td>NaN</td>\n",
              "      <td>NaN</td>\n",
              "      <td>NaN</td>\n",
              "      <td>NaN</td>\n",
              "      <td>NaN</td>\n",
              "      <td>NaN</td>\n",
              "      <td>NaN</td>\n",
              "      <td>NaN</td>\n",
              "      <td>NaN</td>\n",
              "      <td>NaN</td>\n",
              "      <td>NaN</td>\n",
              "      <td>NaN</td>\n",
              "      <td>NaN</td>\n",
              "      <td>NaN</td>\n",
              "      <td>NaN</td>\n",
              "      <td>NaN</td>\n",
              "      <td>NaN</td>\n",
              "      <td>NaN</td>\n",
              "      <td>NaN</td>\n",
              "      <td>2015-09-29 10:50:45.222647+00</td>\n",
              "      <td>2</td>\n",
              "      <td>NaN</td>\n",
              "      <td>2006</td>\n",
              "      <td>rejected</td>\n",
              "      <td>0</td>\n",
              "      <td>0</td>\n",
              "      <td>0</td>\n",
              "      <td>0</td>\n",
              "      <td>0</td>\n",
              "      <td>0.0</td>\n",
              "      <td>0</td>\n",
              "      <td>4</td>\n",
              "    </tr>\n",
              "    <tr>\n",
              "      <th>3</th>\n",
              "      <td>59855</td>\n",
              "      <td>0.000000</td>\n",
              "      <td>Is this something I'll be able to install on m...</td>\n",
              "      <td>0.000000</td>\n",
              "      <td>0.0</td>\n",
              "      <td>0.000000</td>\n",
              "      <td>0.00000</td>\n",
              "      <td>0.0</td>\n",
              "      <td>NaN</td>\n",
              "      <td>NaN</td>\n",
              "      <td>NaN</td>\n",
              "      <td>NaN</td>\n",
              "      <td>NaN</td>\n",
              "      <td>NaN</td>\n",
              "      <td>NaN</td>\n",
              "      <td>NaN</td>\n",
              "      <td>NaN</td>\n",
              "      <td>NaN</td>\n",
              "      <td>NaN</td>\n",
              "      <td>NaN</td>\n",
              "      <td>NaN</td>\n",
              "      <td>NaN</td>\n",
              "      <td>NaN</td>\n",
              "      <td>NaN</td>\n",
              "      <td>NaN</td>\n",
              "      <td>NaN</td>\n",
              "      <td>NaN</td>\n",
              "      <td>NaN</td>\n",
              "      <td>NaN</td>\n",
              "      <td>NaN</td>\n",
              "      <td>NaN</td>\n",
              "      <td>NaN</td>\n",
              "      <td>2015-09-29 10:50:47.601894+00</td>\n",
              "      <td>2</td>\n",
              "      <td>NaN</td>\n",
              "      <td>2006</td>\n",
              "      <td>rejected</td>\n",
              "      <td>0</td>\n",
              "      <td>0</td>\n",
              "      <td>0</td>\n",
              "      <td>0</td>\n",
              "      <td>0</td>\n",
              "      <td>0.0</td>\n",
              "      <td>0</td>\n",
              "      <td>4</td>\n",
              "    </tr>\n",
              "    <tr>\n",
              "      <th>4</th>\n",
              "      <td>59856</td>\n",
              "      <td>0.893617</td>\n",
              "      <td>haha you guys are a bunch of losers.</td>\n",
              "      <td>0.021277</td>\n",
              "      <td>0.0</td>\n",
              "      <td>0.021277</td>\n",
              "      <td>0.87234</td>\n",
              "      <td>0.0</td>\n",
              "      <td>0.0</td>\n",
              "      <td>0.0</td>\n",
              "      <td>0.0</td>\n",
              "      <td>0.0</td>\n",
              "      <td>0.0</td>\n",
              "      <td>0.0</td>\n",
              "      <td>0.0</td>\n",
              "      <td>0.0</td>\n",
              "      <td>0.0</td>\n",
              "      <td>0.0</td>\n",
              "      <td>0.25</td>\n",
              "      <td>0.0</td>\n",
              "      <td>0.0</td>\n",
              "      <td>0.0</td>\n",
              "      <td>0.0</td>\n",
              "      <td>0.0</td>\n",
              "      <td>0.0</td>\n",
              "      <td>0.0</td>\n",
              "      <td>0.0</td>\n",
              "      <td>0.0</td>\n",
              "      <td>0.0</td>\n",
              "      <td>0.0</td>\n",
              "      <td>0.0</td>\n",
              "      <td>0.0</td>\n",
              "      <td>2015-09-29 10:50:48.488476+00</td>\n",
              "      <td>2</td>\n",
              "      <td>NaN</td>\n",
              "      <td>2006</td>\n",
              "      <td>rejected</td>\n",
              "      <td>0</td>\n",
              "      <td>0</td>\n",
              "      <td>0</td>\n",
              "      <td>1</td>\n",
              "      <td>0</td>\n",
              "      <td>0.0</td>\n",
              "      <td>4</td>\n",
              "      <td>47</td>\n",
              "    </tr>\n",
              "  </tbody>\n",
              "</table>\n",
              "</div>"
            ],
            "text/plain": [
              "      id    target  ... identity_annotator_count  toxicity_annotator_count\n",
              "0  59848  0.000000  ...                        0                         4\n",
              "1  59849  0.000000  ...                        0                         4\n",
              "2  59852  0.000000  ...                        0                         4\n",
              "3  59855  0.000000  ...                        0                         4\n",
              "4  59856  0.893617  ...                        4                        47\n",
              "\n",
              "[5 rows x 45 columns]"
            ]
          },
          "metadata": {
            "tags": []
          },
          "execution_count": 68
        }
      ]
    },
    {
      "cell_type": "code",
      "metadata": {
        "id": "QqDZlqmdYj8V",
        "colab_type": "code",
        "outputId": "c08a7663-40d8-4ced-df5e-c320facfc232",
        "colab": {
          "base_uri": "https://localhost:8080/",
          "height": 34
        }
      },
      "source": [
        "#print(df.shape)\n",
        "#df = df.sample(500000)\n",
        "print(df.shape)"
      ],
      "execution_count": 69,
      "outputs": [
        {
          "output_type": "stream",
          "text": [
            "(1804874, 45)\n"
          ],
          "name": "stdout"
        }
      ]
    },
    {
      "cell_type": "code",
      "metadata": {
        "id": "4UwqAY0BwEDN",
        "colab_type": "code",
        "outputId": "632a7e2a-8aa6-4ce2-aaa3-484c55b3e8a7",
        "colab": {
          "base_uri": "https://localhost:8080/",
          "height": 34
        }
      },
      "source": [
        "df = df.drop_duplicates(subset={'comment_text'},keep='first')\n",
        "df.shape"
      ],
      "execution_count": 70,
      "outputs": [
        {
          "output_type": "execute_result",
          "data": {
            "text/plain": [
              "(1780823, 45)"
            ]
          },
          "metadata": {
            "tags": []
          },
          "execution_count": 70
        }
      ]
    },
    {
      "cell_type": "markdown",
      "metadata": {
        "id": "zFY0EQn2Yj9K",
        "colab_type": "text"
      },
      "source": [
        "### Looking the absuive words used in the comments."
      ]
    },
    {
      "cell_type": "code",
      "metadata": {
        "id": "Hwfe7u52Yj9M",
        "colab_type": "code",
        "outputId": "49be1be6-b8cf-4c73-e4da-a848ea1d89a1",
        "colab": {
          "base_uri": "https://localhost:8080/",
          "height": 34
        }
      },
      "source": [
        "# Lets find the words that contains letters or character that are not present in english\n",
        "import re\n",
        "from tqdm import tqdm\n",
        "\n",
        "non_eng_words = {}\n",
        "pattern = re.compile(r'([fadpbit]{1,4}[*]{1,4}[ingkscyhabd]{1,4})')\n",
        "\n",
        "for sent in tqdm(df['comment_text'].values):\n",
        "    sent = re.sub(r'[^a-zA-Z* ]',' ',sent)\n",
        "    for wrd in sent.split():\n",
        "        if(re.match(pattern,wrd) and len(wrd)>2):\n",
        "            if(non_eng_words.get(wrd,-1)<0):\n",
        "                non_eng_words[wrd] = 1\n",
        "            else:\n",
        "                non_eng_words[wrd] += 1"
      ],
      "execution_count": 71,
      "outputs": [
        {
          "output_type": "stream",
          "text": [
            "100%|██████████| 1780823/1780823 [02:01<00:00, 14638.05it/s]\n"
          ],
          "name": "stderr"
        }
      ]
    },
    {
      "cell_type": "code",
      "metadata": {
        "id": "Zm68pnCKYj9a",
        "colab_type": "code",
        "outputId": "5e6d244e-4a10-4c3f-82c3-42594006d82d",
        "colab": {
          "base_uri": "https://localhost:8080/",
          "height": 1000
        }
      },
      "source": [
        "# Now we will store these words and their counts in a list.\n",
        "wrds = []\n",
        "counts = []\n",
        "for wrd in sorted(non_eng_words, key=non_eng_words.get, reverse=True):\n",
        "    if(len(wrd)<30):\n",
        "        wrds.append(wrd)\n",
        "        counts.append(non_eng_words[wrd])\n",
        "print(\"Number of aabusive words wused are \".format(len(non_eng_words)))\n",
        "        \n",
        "## Abusive words present in the comments.\n",
        "for i in range(len(wrds)):\n",
        "    print(wrds[i],\"->\",counts[i])"
      ],
      "execution_count": 72,
      "outputs": [
        {
          "output_type": "stream",
          "text": [
            "Number of aabusive words wused are \n",
            "p***y -> 73\n",
            "p*ssy -> 65\n",
            "f**k -> 45\n",
            "a**hole -> 38\n",
            "f*ck -> 29\n",
            "a**holes -> 27\n",
            "p*ss -> 25\n",
            "f*cking -> 18\n",
            "f***ing -> 17\n",
            "f**king -> 15\n",
            "p*ssed -> 13\n",
            "p**sy -> 13\n",
            "a*s -> 10\n",
            "f**ked -> 10\n",
            "b***h -> 9\n",
            "f*cked -> 8\n",
            "d*ck -> 7\n",
            "p**s -> 7\n",
            "p*ssie -> 6\n",
            "p*ssing -> 6\n",
            "a**clown -> 6\n",
            "bit*h -> 5\n",
            "d**k -> 5\n",
            "b**ch -> 5\n",
            "f*cks -> 4\n",
            "p**y -> 4\n",
            "d****d -> 3\n",
            "p***ing -> 3\n",
            "pi*s -> 3\n",
            "p***ies -> 3\n",
            "p*nis -> 3\n",
            "b*itch -> 3\n",
            "d**n -> 3\n",
            "d**ks -> 3\n",
            "b*stards -> 3\n",
            "f**cker -> 3\n",
            "p****y -> 3\n",
            "a**clowns -> 3\n",
            "p****d -> 2\n",
            "pi**ing -> 2\n",
            "bi*ch -> 2\n",
            "a*sholes -> 2\n",
            "f**ks -> 2\n",
            "f*k -> 2\n",
            "a*se -> 2\n",
            "f***in -> 2\n",
            "f***n -> 2\n",
            "d*amn -> 2\n",
            "f**kin -> 2\n",
            "p*ss* -> 2\n",
            "p*ssies -> 2\n",
            "f****d -> 2\n",
            "f****ing -> 2\n",
            "a**hats -> 2\n",
            "b***s -> 2\n",
            "p*sses -> 2\n",
            "p*ss*ng -> 2\n",
            "f***king -> 2\n",
            "b*stard -> 2\n",
            "p*s*y -> 2\n",
            "f*ckers -> 2\n",
            "d*ckhead -> 2\n",
            "f****s -> 2\n",
            "a***holes -> 2\n",
            "a*holes -> 2\n",
            "t**d -> 2\n",
            "f*ckin -> 1\n",
            "b**ching -> 1\n",
            "a*a* -> 1\n",
            "f*c*ing -> 1\n",
            "bat*hit -> 1\n",
            "f***g -> 1\n",
            "d***s -> 1\n",
            "a*shole -> 1\n",
            "p****s -> 1\n",
            "b*sta*ds -> 1\n",
            "p**s* -> 1\n",
            "p****ies -> 1\n",
            "b*gg*r -> 1\n",
            "f*c*king -> 1\n",
            "f***s -> 1\n",
            "a*ss -> 1\n",
            "bat****crazy -> 1\n",
            "p*sspot -> 1\n",
            "p***ys -> 1\n",
            "ba**ards -> 1\n",
            "f**kc -> 1\n",
            "di*k -> 1\n",
            "f*ck*d -> 1\n",
            "b*alls -> 1\n",
            "di*ks -> 1\n",
            "f*c* -> 1\n",
            "b****h -> 1\n",
            "f*kcyouCanada -> 1\n",
            "t*g -> 1\n",
            "a**h*** -> 1\n",
            "f**ken -> 1\n",
            "f**g -> 1\n",
            "f**ing -> 1\n",
            "a**holery -> 1\n",
            "f**kem -> 1\n",
            "i*iot -> 1\n",
            "a**hat -> 1\n",
            "f**cking -> 1\n",
            "f**ching -> 1\n",
            "d*icks -> 1\n",
            "t*i*t -> 1\n",
            "a**h**e -> 1\n",
            "f***ked -> 1\n",
            "b***s**t -> 1\n",
            "b*st*rd -> 1\n",
            "b***ch -> 1\n",
            "p*as -> 1\n",
            "a****and -> 1\n",
            "f*ggots -> 1\n",
            "da*n -> 1\n",
            "a**h* -> 1\n",
            "f**cked -> 1\n",
            "t*h -> 1\n",
            "id*iot -> 1\n",
            "b****s -> 1\n",
            "bit*hes -> 1\n",
            "b***ches -> 1\n",
            "fa**in -> 1\n",
            "b**hes -> 1\n",
            "da*ned -> 1\n",
            "p**a -> 1\n",
            "t**s -> 1\n",
            "di*cks -> 1\n",
            "d**ned -> 1\n",
            "f*ckup -> 1\n",
            "a***hole -> 1\n",
            "p*sssy -> 1\n",
            "a*hole -> 1\n",
            "f***k -> 1\n",
            "p****grabber -> 1\n",
            "f***able -> 1\n",
            "bi**h -> 1\n",
            "a**ing -> 1\n",
            "d*do -> 1\n",
            "p**ck -> 1\n",
            "di**s -> 1\n",
            "f*ggot -> 1\n",
            "d*ke -> 1\n",
            "f*g -> 1\n"
          ],
          "name": "stdout"
        }
      ]
    },
    {
      "cell_type": "markdown",
      "metadata": {
        "id": "gWuYp_sL-kKB",
        "colab_type": "text"
      },
      "source": [
        "### Data Cleaning"
      ]
    },
    {
      "cell_type": "code",
      "metadata": {
        "id": "XqwmrvE-Yj9_",
        "colab_type": "code",
        "colab": {}
      },
      "source": [
        "\n",
        "# Ref: https://www.kaggle.com/haqishen/jigsaw-predict\n",
        "# We are creating a dict with shortened word as key and actual word as value.\n",
        "apostophe_dict = {\"ain't\": \"is not\", \"aren't\": \"are not\",\"can't\": \"cannot\", \"'cause\": \"because\", \"could've\": \"could have\",\n",
        "                  \"couldn't\": \"could not\", \"didn't\": \"did not\",  \"doesn't\": \"does not\", \"don't\": \"do not\", \"hadn't\": \"had not\",\n",
        "                  \"hasn't\": \"has not\", \"haven't\": \"have not\", \"he'd\": \"he would\",\"he'll\": \"he will\", \"he's\": \"he is\",\n",
        "                  \"how'd\": \"how did\", \"how'd'y\": \"how do you\", \"how'll\": \"how will\", \"how's\": \"how is\",  \"I'd\": \"I would\",\n",
        "                  \"I'd've\": \"I would have\", \"I'll\": \"I will\", \"I'll've\": \"I will have\",\"I'm\": \"I am\", \"I've\": \"I have\",\n",
        "                  \"i'd\": \"i would\", \"i'd've\": \"i would have\", \"i'll\": \"i will\",  \"i'll've\": \"i will have\",\"i'm\": \"i am\",\n",
        "                  \"i've\": \"i have\", \"isn't\": \"is not\", \"it'd\": \"it would\", \"it'd've\": \"it would have\", \"it'll\": \"it will\",\n",
        "                  \"it'll've\": \"it will have\",\"it's\": \"it is\", \"let's\": \"let us\", \"ma'am\": \"madam\", \"mayn't\": \"may not\",\n",
        "                  \"might've\": \"might have\",\"mightn't\": \"might not\",\"mightn't've\": \"might not have\", \"must've\": \"must have\",\n",
        "                  \"mustn't\": \"must not\", \"mustn't've\": \"must not have\", \"needn't\": \"need not\", \"needn't've\": \"need not have\",\n",
        "                  \"o'clock\": \"of the clock\", \"oughtn't\": \"ought not\", \"oughtn't've\": \"ought not have\", \"shan't\": \"shall not\",\n",
        "                  \"sha'n't\": \"shall not\", \"shan't've\": \"shall not have\", \"she'd\": \"she would\", \"she'd've\": \"she would have\",\n",
        "                  \"she'll\": \"she will\", \"she'll've\": \"she will have\", \"she's\": \"she is\", \"should've\": \"should have\",\n",
        "                  \"shouldn't\": \"should not\", \"shouldn't've\": \"should not have\", \"so've\": \"so have\",\"so's\": \"so as\",\n",
        "                  \"this's\": \"this is\",\"that'd\": \"that would\", \"that'd've\": \"that would have\", \"that's\": \"that is\",\n",
        "                  \"there'd\": \"there would\", \"there'd've\": \"there would have\", \"there's\": \"there is\", \"here's\": \"here is\",\n",
        "                  \"they'd\": \"they would\", \"they'd've\": \"they would have\", \"they'll\": \"they will\", \"they'll've\": \"they will have\",\n",
        "                  \"they're\": \"they are\", \"they've\": \"they have\", \"to've\": \"to have\", \"wasn't\": \"was not\", \"we'd\": \"we would\",\n",
        "                  \"we'd've\": \"we would have\", \"we'll\": \"we will\", \"we'll've\": \"we will have\", \"we're\": \"we are\",\n",
        "                  \"we've\": \"we have\", \"weren't\": \"were not\", \"what'll\": \"what will\", \"what'll've\": \"what will have\",\n",
        "                  \"what're\": \"what are\",  \"what's\": \"what is\", \"what've\": \"what have\", \"when's\": \"when is\",\n",
        "                  \"when've\": \"when have\", \"where'd\": \"where did\", \"where's\": \"where is\", \"where've\": \"where have\",\n",
        "                  \"who'll\": \"who will\", \"who'll've\": \"who will have\", \"who's\": \"who is\", \"who've\": \"who have\",\n",
        "                  \"why's\": \"why is\", \"why've\": \"why have\", \"will've\": \"will have\", \"won't\": \"will not\",\n",
        "                  \"won't've\": \"will not have\", \"would've\": \"would have\", \"wouldn't\": \"would not\",\n",
        "                  \"wouldn't've\": \"would not have\", \"y'all\": \"you all\", \"y'all'd\": \"you all would\",\n",
        "                  \"y'all'd've\": \"you all would have\",\"y'all're\": \"you all are\",\"y'all've\": \"you all have\",\"you'd\": \"you would\",\n",
        "                  \"you'd've\": \"you would have\", \"you'll\": \"you will\", \"you'll've\": \"you will have\", \"you're\": \"you are\",\n",
        "                  \"you've\": \"you have\" }\n"
      ],
      "execution_count": 0,
      "outputs": []
    },
    {
      "cell_type": "code",
      "metadata": {
        "id": "IEeOYrHj9B7i",
        "colab_type": "code",
        "outputId": "43c4d13e-a8fa-4889-9b70-2fd623a47189",
        "colab": {
          "base_uri": "https://localhost:8080/",
          "height": 51
        }
      },
      "source": [
        "import nltk\n",
        "nltk.download('stopwords')\n",
        "from nltk.corpus import stopwords\n",
        "stopwords = list(stopwords.words('english'))"
      ],
      "execution_count": 74,
      "outputs": [
        {
          "output_type": "stream",
          "text": [
            "[nltk_data] Downloading package stopwords to /root/nltk_data...\n",
            "[nltk_data]   Package stopwords is already up-to-date!\n"
          ],
          "name": "stdout"
        }
      ]
    },
    {
      "cell_type": "code",
      "metadata": {
        "id": "C7rKRNfa9CLe",
        "colab_type": "code",
        "colab": {}
      },
      "source": [
        "import re\n",
        "\n",
        "def process_sent(sent):\n",
        "    line = ''\n",
        "    for wrd in sent.split():\n",
        "        if(len(apostophe_dict.get(wrd.lower(),'n'))>1 and wrd.lower() not in stopwords and len(wrd)>2):\n",
        "            wrd = apostophe_dict[wrd.lower()]\n",
        "            n_wrd = ''\n",
        "            for w in wrd.split():\n",
        "                if(w not in stopwords):\n",
        "                    n_wrd += \" \"+w\n",
        "            line += \" \"+n_wrd\n",
        "        else:\n",
        "            line += \" \"+ wrd.lower()    \n",
        "    line = re.sub(r'[^a-zA-Z* ]',' ',line)\n",
        "    return line"
      ],
      "execution_count": 0,
      "outputs": []
    },
    {
      "cell_type": "code",
      "metadata": {
        "id": "xAkmxr6Y-2or",
        "colab_type": "code",
        "outputId": "15f0baa4-1042-4068-a6b8-1f0ab9767a3c",
        "colab": {
          "base_uri": "https://localhost:8080/",
          "height": 34
        }
      },
      "source": [
        "# Preprocessing the comments.\n",
        "preprocessed_data = []\n",
        "from tqdm import tqdm\n",
        "for sent in tqdm(df['comment_text'].values):\n",
        "    sent = process_sent(sent)\n",
        "    line = ''\n",
        "    for wrd in sent.split():\n",
        "        if(len(wrd)>2):\n",
        "            line += \" \" +wrd.lower()\n",
        "    line = re.sub(r\"[']\",'',line)\n",
        "    preprocessed_data.append(line)"
      ],
      "execution_count": 104,
      "outputs": [
        {
          "output_type": "stream",
          "text": [
            "100%|██████████| 1780823/1780823 [01:28<00:00, 20101.91it/s]\n"
          ],
          "name": "stderr"
        }
      ]
    },
    {
      "cell_type": "code",
      "metadata": {
        "id": "aBoBrIuz-2iN",
        "colab_type": "code",
        "colab": {}
      },
      "source": [
        "df['comment_text'] = preprocessed_data"
      ],
      "execution_count": 0,
      "outputs": []
    },
    {
      "cell_type": "markdown",
      "metadata": {
        "id": "mHh3Vpfo_jji",
        "colab_type": "text"
      },
      "source": [
        "### Splitting data"
      ]
    },
    {
      "cell_type": "code",
      "metadata": {
        "id": "kbd5sTCL7l0s",
        "colab_type": "code",
        "outputId": "ebff327e-f76b-4090-f45e-13584773a036",
        "colab": {
          "base_uri": "https://localhost:8080/",
          "height": 34
        }
      },
      "source": [
        "from sklearn.model_selection import train_test_split\n",
        "Y = df['target'].values\n",
        "train,test,Y_train,Y_test = train_test_split(df,Y,test_size=0.2,random_state=42)\n",
        "train,cv,Y_train,Y_cv = train_test_split(train,Y_train,test_size=0.1,random_state=42)\n",
        "print((train.shape),(test.shape),(cv.shape))"
      ],
      "execution_count": 78,
      "outputs": [
        {
          "output_type": "stream",
          "text": [
            "(1282192, 45) (356165, 45) (142466, 45)\n"
          ],
          "name": "stdout"
        }
      ]
    },
    {
      "cell_type": "code",
      "metadata": {
        "id": "QBeovSv8GiZd",
        "colab_type": "code",
        "colab": {}
      },
      "source": [
        "identity_columns = [\n",
        "        'male', 'female', 'homosexual_gay_or_lesbian', 'christian', 'jewish',\n",
        "        'muslim', 'black', 'white', 'psychiatric_or_mental_illness']\n"
      ],
      "execution_count": 0,
      "outputs": []
    },
    {
      "cell_type": "code",
      "metadata": {
        "id": "dk9s2VwFHNqc",
        "colab_type": "code",
        "colab": {}
      },
      "source": [
        "import numpy as np\n",
        "seed = 1029\n",
        "\n",
        "train_x = train['comment_text'].fillna('_##_').values\n",
        "test_x = test['comment_text'].fillna('_##_').values\n",
        "cv_x = cv['comment_text'].fillna('_##_').values\n",
        "\n",
        "# For gtrain\n",
        "weights = np.ones((len(train),))\n",
        "weights += train[identity_columns].fillna(0).values.sum(axis=1) * 3\n",
        "weights += train['target'].values * 8\n",
        "weights /= weights.max()\n",
        "train_y = np.vstack([train['target'], weights]).T   \n",
        "train_y_identity = train[identity_columns].values\n",
        "\n",
        "# For test\n",
        "weights = np.ones((len(test),))\n",
        "weights += test[identity_columns].fillna(0).values.sum(axis=1) * 3\n",
        "weights += test['target'].values * 8\n",
        "weights /= weights.max()\n",
        "test_y = np.vstack([test['target'], weights]).T   \n",
        "test_y_identity = test[identity_columns].values\n",
        "\n",
        "# For cv\n",
        "weights = np.ones((len(cv),))\n",
        "weights += cv[identity_columns].fillna(0).values.sum(axis=1) * 3\n",
        "weights += cv['target'].values * 8\n",
        "weights /= weights.max()\n",
        "cv_y = np.vstack([cv['target'], weights]).T    \n",
        "cv_y_identity = cv[identity_columns].values\n",
        "\n",
        "# shuffling the data\n",
        "np.random.seed(seed)\n",
        "train_idx = np.random.permutation(len(train_x))\n",
        "test_idx = np.random.permutation(len(test_x))\n",
        "cv_idx = np.random.permutation(len(cv_x))\n",
        "\n",
        "train_x = train_x[train_idx]\n",
        "train_y = train_y[train_idx]\n",
        "train_y_identity = train_y_identity[train_idx]\n",
        "\n",
        "\n",
        "test_x = test_x[test_idx]\n",
        "test_y = test_y[test_idx]\n",
        "test_y_identity = test_y_identity[test_idx]\n",
        "\n",
        "\n",
        "cv_x = cv_x[cv_idx]\n",
        "cv_y = cv_y[cv_idx]\n",
        "cv_y_identity = cv_y_identity[cv_idx]"
      ],
      "execution_count": 0,
      "outputs": []
    },
    {
      "cell_type": "code",
      "metadata": {
        "id": "gVMR8tQVSRNE",
        "colab_type": "code",
        "outputId": "f084ab78-0740-4a30-d933-2d30a3d37f55",
        "colab": {
          "base_uri": "https://localhost:8080/",
          "height": 68
        }
      },
      "source": [
        "y_binary = (test_y[:, 0] >= 0.5).astype(int)\n",
        "y_identity_binary = (test_y_identity >= 0.5).astype(int)\n",
        "y_identity_binary.shape\n"
      ],
      "execution_count": 81,
      "outputs": [
        {
          "output_type": "stream",
          "text": [
            "/usr/local/lib/python3.6/dist-packages/ipykernel_launcher.py:2: RuntimeWarning: invalid value encountered in greater_equal\n",
            "  \n"
          ],
          "name": "stderr"
        },
        {
          "output_type": "execute_result",
          "data": {
            "text/plain": [
              "(356165, 9)"
            ]
          },
          "metadata": {
            "tags": []
          },
          "execution_count": 81
        }
      ]
    },
    {
      "cell_type": "code",
      "metadata": {
        "id": "1R-S5srPCmTS",
        "colab_type": "code",
        "outputId": "1d69b00d-73f4-4df0-a478-a5bf87856992",
        "colab": {
          "base_uri": "https://localhost:8080/",
          "height": 34
        }
      },
      "source": [
        "Y_train = (train_y[:,0]>=0.5).astype(int)\n",
        "Y_cv = (cv_y[:,0]>=0.5).astype(int)\n",
        "Y_test = (test_y[:,0]>=0.5).astype(int)\n",
        "print(Y_train.shape, Y_cv.shape)\n"
      ],
      "execution_count": 82,
      "outputs": [
        {
          "output_type": "stream",
          "text": [
            "(1282192,) (142466,)\n"
          ],
          "name": "stdout"
        }
      ]
    },
    {
      "cell_type": "markdown",
      "metadata": {
        "id": "fZlZwaRiI4Zf",
        "colab_type": "text"
      },
      "source": [
        "### Custom metric given by *Kaggle*"
      ]
    },
    {
      "cell_type": "code",
      "metadata": {
        "id": "nmbsUXNavCwt",
        "colab_type": "code",
        "colab": {}
      },
      "source": [
        "# This metric code below was taken from kaggle \n",
        "from sklearn.metrics import roc_auc_score\n",
        "import keras.backend as K\n",
        "class JigsawEvaluator:\n",
        "    \n",
        "    def __init__(self, y_binary, y_identity_binary, power=-5, overall_model_weight=0.25):\n",
        "        self.y = y_binary\n",
        "        self.y_i = y_identity_binary\n",
        "        self.n_subgroups = self.y_i.shape[1]\n",
        "        self.power = power\n",
        "        self.overall_model_weight = overall_model_weight\n",
        "        \n",
        "    @staticmethod\n",
        "    def _compute_auc(y_true, y_pred):\n",
        "        try:\n",
        "            return roc_auc_score(y_true, y_pred)\n",
        "        except ValueError:\n",
        "            return np.nan\n",
        "        \n",
        "    def _compute_subgroup_auc(self, i, y_pred):\n",
        "        mask = self.y_i[:, i] == 1\n",
        "        return self._compute_auc(self.y[mask], y_pred[mask])\n",
        "        \n",
        "    def _compute_bpsn_auc(self, i, y_pred):\n",
        "        mask = self.y_i[:, i] + self.y == 1\n",
        "        return self._compute_auc(self.y[mask], y_pred[mask])\n",
        "        \n",
        "    def _compute_bnsp_auc(self, i, y_pred):\n",
        "        mask = self.y_i[:, i] + self.y != 1\n",
        "        return self._compute_auc(self.y[mask], y_pred[mask])\n",
        "      \n",
        "    def compute_bias_metrics_for_model(self, y_pred):\n",
        "        records = np.zeros((3, self.n_subgroups))\n",
        "        for i in range(self.n_subgroups):\n",
        "            records[0, i] = self._compute_subgroup_auc(i, y_pred)\n",
        "            records[1, i] = self._compute_bpsn_auc(i, y_pred)\n",
        "            records[2, i] = self._compute_bnsp_auc(i, y_pred)\n",
        "        return records\n",
        "        \n",
        "    def _calculate_overall_auc(self, y_pred):\n",
        "        return roc_auc_score(self.y, y_pred)\n",
        "        \n",
        "    def _power_mean(self, array):\n",
        "        total = sum(np.power(array, self.power))\n",
        "        return np.power(total / len(array), 1 / self.power)\n",
        "        \n",
        "    def get_final_metric(self, y_pred):\n",
        "        #y_pred = K.flatten(y_pred)\n",
        "        bias_metrics = self.compute_bias_metrics_for_model(y_pred)\n",
        "        bias_score = np.average([\n",
        "            self._power_mean(bias_metrics[0]),\n",
        "            self._power_mean(bias_metrics[1]),\n",
        "            self._power_mean(bias_metrics[2])\n",
        "        ])\n",
        "        overall_score = self.overall_model_weight * self._calculate_overall_auc(y_pred)\n",
        "        bias_score = (1 - self.overall_model_weight) * bias_score\n",
        "        return overall_score + bias_score"
      ],
      "execution_count": 0,
      "outputs": []
    },
    {
      "cell_type": "markdown",
      "metadata": {
        "id": "cMIWJJa1PYRA",
        "colab_type": "text"
      },
      "source": [
        "## Vectorizing datset using tfidf"
      ]
    },
    {
      "cell_type": "markdown",
      "metadata": {
        "id": "qeNjR0XTVYK6",
        "colab_type": "text"
      },
      "source": [
        "#### vectorizing train dataset"
      ]
    },
    {
      "cell_type": "code",
      "metadata": {
        "id": "dCavHB4HUe3E",
        "colab_type": "code",
        "colab": {}
      },
      "source": [
        "# target with value greater than equal to 0.5 will be assigned 1 and rest 0.\n",
        "def fun(x):\n",
        "    if(x>=0.5):\n",
        "        return 1\n",
        "    else:\n",
        "        return 0"
      ],
      "execution_count": 0,
      "outputs": []
    },
    {
      "cell_type": "code",
      "metadata": {
        "id": "4rh7cbCMUfBH",
        "colab_type": "code",
        "colab": {}
      },
      "source": [
        "labels = df['target']\n",
        "Y = labels.map(fun)"
      ],
      "execution_count": 0,
      "outputs": []
    },
    {
      "cell_type": "code",
      "metadata": {
        "id": "n5AS38gZYj_A",
        "colab_type": "code",
        "colab": {
          "base_uri": "https://localhost:8080/",
          "height": 34
        },
        "outputId": "3b02c199-389f-4055-ef13-cbce815a36e9"
      },
      "source": [
        "from sklearn.model_selection import train_test_split\n",
        "\n",
        "X_train,X_test,Y_train,Y_test = train_test_split(preprocessed_data,Y,test_size=0.2,random_state=42)\n",
        "X_train,X_cv,Y_train,Y_cv = train_test_split(X_train,Y_train,test_size=0.1,random_state=42)\n",
        "print(len(X_train),len(X_test),len(X_cv))"
      ],
      "execution_count": 107,
      "outputs": [
        {
          "output_type": "stream",
          "text": [
            "1282192 356165 142466\n"
          ],
          "name": "stdout"
        }
      ]
    },
    {
      "cell_type": "code",
      "metadata": {
        "id": "1vEFdbPoU3wl",
        "colab_type": "code",
        "colab": {}
      },
      "source": [
        "from sklearn.feature_extraction.text import TfidfVectorizer\n",
        "vectorizer = TfidfVectorizer(min_df=5, max_features=50000)\n",
        "train_vect1 = vectorizer.fit_transform(X_train)\n",
        "test_vect1 = vectorizer.transform(X_test)\n",
        "cv_vect1 = vectorizer.transform(X_cv)"
      ],
      "execution_count": 0,
      "outputs": []
    },
    {
      "cell_type": "code",
      "metadata": {
        "id": "g_BfZFUdYj_F",
        "colab_type": "code",
        "outputId": "ea39c091-8753-42f3-bb3b-1592b9632e77",
        "colab": {
          "base_uri": "https://localhost:8080/",
          "height": 68
        }
      },
      "source": [
        "print(train_vect1.shape)\n",
        "print(test_vect1.shape)\n",
        "print(cv_vect1.shape)"
      ],
      "execution_count": 109,
      "outputs": [
        {
          "output_type": "stream",
          "text": [
            "(1282192, 50000)\n",
            "(356165, 50000)\n",
            "(142466, 50000)\n"
          ],
          "name": "stdout"
        }
      ]
    },
    {
      "cell_type": "markdown",
      "metadata": {
        "id": "DJlRT7XxVcdf",
        "colab_type": "text"
      },
      "source": [
        "#### vectorizing test dataset"
      ]
    },
    {
      "cell_type": "code",
      "metadata": {
        "id": "9qXCQhK0VdHp",
        "colab_type": "code",
        "colab": {
          "base_uri": "https://localhost:8080/",
          "height": 204
        },
        "outputId": "925c9be5-4f01-4b52-b0e6-6900f375af19"
      },
      "source": [
        "test_df = pd.read_csv(\"/content/drive/My Drive/Project/test.csv\")\n",
        "test_df.head()"
      ],
      "execution_count": 110,
      "outputs": [
        {
          "output_type": "execute_result",
          "data": {
            "text/html": [
              "<div>\n",
              "<style scoped>\n",
              "    .dataframe tbody tr th:only-of-type {\n",
              "        vertical-align: middle;\n",
              "    }\n",
              "\n",
              "    .dataframe tbody tr th {\n",
              "        vertical-align: top;\n",
              "    }\n",
              "\n",
              "    .dataframe thead th {\n",
              "        text-align: right;\n",
              "    }\n",
              "</style>\n",
              "<table border=\"1\" class=\"dataframe\">\n",
              "  <thead>\n",
              "    <tr style=\"text-align: right;\">\n",
              "      <th></th>\n",
              "      <th>id</th>\n",
              "      <th>comment_text</th>\n",
              "    </tr>\n",
              "  </thead>\n",
              "  <tbody>\n",
              "    <tr>\n",
              "      <th>0</th>\n",
              "      <td>7097320</td>\n",
              "      <td>[ Integrity means that you pay your debts.]\\n\\...</td>\n",
              "    </tr>\n",
              "    <tr>\n",
              "      <th>1</th>\n",
              "      <td>7097321</td>\n",
              "      <td>This is malfeasance by the Administrator and t...</td>\n",
              "    </tr>\n",
              "    <tr>\n",
              "      <th>2</th>\n",
              "      <td>7097322</td>\n",
              "      <td>@Rmiller101 - Spoken like a true elitist. But ...</td>\n",
              "    </tr>\n",
              "    <tr>\n",
              "      <th>3</th>\n",
              "      <td>7097323</td>\n",
              "      <td>Paul: Thank you for your kind words.  I do, in...</td>\n",
              "    </tr>\n",
              "    <tr>\n",
              "      <th>4</th>\n",
              "      <td>7097324</td>\n",
              "      <td>Sorry you missed high school. Eisenhower sent ...</td>\n",
              "    </tr>\n",
              "  </tbody>\n",
              "</table>\n",
              "</div>"
            ],
            "text/plain": [
              "        id                                       comment_text\n",
              "0  7097320  [ Integrity means that you pay your debts.]\\n\\...\n",
              "1  7097321  This is malfeasance by the Administrator and t...\n",
              "2  7097322  @Rmiller101 - Spoken like a true elitist. But ...\n",
              "3  7097323  Paul: Thank you for your kind words.  I do, in...\n",
              "4  7097324  Sorry you missed high school. Eisenhower sent ..."
            ]
          },
          "metadata": {
            "tags": []
          },
          "execution_count": 110
        }
      ]
    },
    {
      "cell_type": "code",
      "metadata": {
        "id": "gaFdiBUIVdEH",
        "colab_type": "code",
        "colab": {
          "base_uri": "https://localhost:8080/",
          "height": 34
        },
        "outputId": "32796e01-e6e0-4b2a-8655-0b26ec0d91bc"
      },
      "source": [
        "# Preprocessing the comments.\n",
        "preprocessed_data_test = []\n",
        "from tqdm import tqdm\n",
        "for sent in tqdm(test_df['comment_text'].values):\n",
        "    sent = process_sent(sent)\n",
        "    line = ''\n",
        "    for wrd in sent.split():\n",
        "        if(len(wrd)>2):\n",
        "            line += \" \" +wrd.lower()\n",
        "    #line = re.sub(r\"[']\",'',line)\n",
        "    preprocessed_data_test.append(line)\n",
        "    \n",
        "# Preparing the test data\n",
        "test_X = vectorizer.transform(preprocessed_data)"
      ],
      "execution_count": 111,
      "outputs": [
        {
          "output_type": "stream",
          "text": [
            "100%|██████████| 97320/97320 [00:05<00:00, 16753.86it/s]\n"
          ],
          "name": "stderr"
        }
      ]
    },
    {
      "cell_type": "markdown",
      "metadata": {
        "id": "eCbzpZf8Yj_W",
        "colab_type": "text"
      },
      "source": [
        "# Training Logistic Regression on tfidf vectorization"
      ]
    },
    {
      "cell_type": "markdown",
      "metadata": {
        "id": "p6ljlSUAScUg",
        "colab_type": "text"
      },
      "source": [
        "### On word unigrams "
      ]
    },
    {
      "cell_type": "code",
      "metadata": {
        "id": "iIS0fQ5uYj_X",
        "colab_type": "code",
        "outputId": "e0d9669e-8abb-42f7-a00d-0bd8417481d3",
        "colab": {
          "base_uri": "https://localhost:8080/",
          "height": 221
        }
      },
      "source": [
        "from sklearn.linear_model import SGDClassifier\n",
        "from sklearn.calibration import CalibratedClassifierCV\n",
        "from sklearn.metrics import roc_auc_score\n",
        "params = [0.0000001,0.000001,0.00001,0.0001,0.001,0.01,0.1,1.0,10,100]\n",
        "train_auc = []\n",
        "cv_auc = []\n",
        "for i in tqdm(params):\n",
        "    lr = SGDClassifier(loss='log',penalty='l2',tol=0.0001,alpha=i,n_jobs=-1,class_weight='balanced')\n",
        "    model = CalibratedClassifierCV(lr,cv=5)\n",
        "    model.fit(train_vect1,Y_train)\n",
        "    predict_y_train = model.predict_proba(train_vect1)[:,1] # Taking probability for positive class\n",
        "    t_auc = roc_auc_score(Y_train,predict_y_train)\n",
        "    predict_y_cv = model.predict_proba(cv_vect1)[:,1]# Taking probability for positve class\n",
        "    c_auc = roc_auc_score(Y_cv,predict_y_cv)\n",
        "    train_auc.append(t_auc)\n",
        "    cv_auc.append(c_auc)"
      ],
      "execution_count": 113,
      "outputs": [
        {
          "output_type": "stream",
          "text": [
            "\n",
            "  0%|          | 0/10 [00:00<?, ?it/s]\u001b[A\n",
            " 10%|█         | 1/10 [06:34<59:07, 394.17s/it]\u001b[A\n",
            " 20%|██        | 2/10 [09:16<43:17, 324.68s/it]\u001b[A\n",
            " 30%|███       | 3/10 [10:48<29:44, 254.91s/it]\u001b[A\n",
            " 40%|████      | 4/10 [11:52<19:46, 197.69s/it]\u001b[A\n",
            " 50%|█████     | 5/10 [12:39<12:41, 152.30s/it]\u001b[A\n",
            " 60%|██████    | 6/10 [13:24<08:00, 120.14s/it]\u001b[A\n",
            " 70%|███████   | 7/10 [13:57<04:42, 94.05s/it] \u001b[A\n",
            " 80%|████████  | 8/10 [14:30<02:31, 75.80s/it]\u001b[A\n",
            " 90%|█████████ | 9/10 [15:05<01:03, 63.53s/it]\u001b[A\n",
            "100%|██████████| 10/10 [15:36<00:00, 53.68s/it]\u001b[A\n",
            "\u001b[A"
          ],
          "name": "stderr"
        }
      ]
    },
    {
      "cell_type": "code",
      "metadata": {
        "id": "rmjtJl98Yj_b",
        "colab_type": "code",
        "outputId": "63d312fa-bb76-4541-e78b-ab4c81563bf0",
        "colab": {
          "base_uri": "https://localhost:8080/",
          "height": 283
        }
      },
      "source": [
        "import matplotlib.pyplot as plt\n",
        "import math as m\n",
        "para = [m.log10(x) for x in params]\n",
        "plt.plot(para,train_auc,label='train auc')\n",
        "plt.plot(para,cv_auc,label='validation auc')\n",
        "plt.xlabel(\"log of hyper parameter lambda\")\n",
        "plt.ylabel(\"Auc for each lambda\")\n",
        "plt.grid()\n",
        "plt.legend()\n",
        "plt.show()"
      ],
      "execution_count": 114,
      "outputs": [
        {
          "output_type": "display_data",
          "data": {
            "image/png": "[encoded data removed]",
            "text/plain": [
              "<Figure size 432x288 with 1 Axes>"
            ]
          },
          "metadata": {
            "tags": []
          }
        }
      ]
    },
    {
      "cell_type": "code",
      "metadata": {
        "id": "rhP3kFHlYj_i",
        "colab_type": "code",
        "outputId": "95ce4051-90ac-4824-fd53-546b99c83abf",
        "colab": {
          "base_uri": "https://localhost:8080/",
          "height": 306
        }
      },
      "source": [
        "lr = SGDClassifier(loss='log',penalty='l2',tol=0.0001,alpha=0.000001,n_jobs=-1)\n",
        "model = CalibratedClassifierCV(lr,cv=5)\n",
        "model.fit(train_vect1,Y_train)"
      ],
      "execution_count": 116,
      "outputs": [
        {
          "output_type": "execute_result",
          "data": {
            "text/plain": [
              "CalibratedClassifierCV(base_estimator=SGDClassifier(alpha=1e-06, average=False,\n",
              "                                                    class_weight=None,\n",
              "                                                    early_stopping=False,\n",
              "                                                    epsilon=0.1, eta0=0.0,\n",
              "                                                    fit_intercept=True,\n",
              "                                                    l1_ratio=0.15,\n",
              "                                                    learning_rate='optimal',\n",
              "                                                    loss='log', max_iter=1000,\n",
              "                                                    n_iter_no_change=5,\n",
              "                                                    n_jobs=-1, penalty='l2',\n",
              "                                                    power_t=0.5,\n",
              "                                                    random_state=None,\n",
              "                                                    shuffle=True, tol=0.0001,\n",
              "                                                    validation_fraction=0.1,\n",
              "                                                    verbose=0,\n",
              "                                                    warm_start=False),\n",
              "                       cv=5, method='sigmoid')"
            ]
          },
          "metadata": {
            "tags": []
          },
          "execution_count": 116
        }
      ]
    },
    {
      "cell_type": "code",
      "metadata": {
        "id": "NwsLz3ypkHcr",
        "colab_type": "code",
        "colab": {
          "base_uri": "https://localhost:8080/",
          "height": 34
        },
        "outputId": "f0455d4b-7b24-40c1-8897-74dd31a92470"
      },
      "source": [
        "predict_y_test = model.predict_proba(test_vect1)[:,1] # Taking probability for positive class\n",
        "eval = JigsawEvaluator(y_binary, y_identity_binary)\n",
        "auc = eval.get_final_metric(predict_y_test)\n",
        "print(\"Auc for logistic regression is {}\".format(roc_auc_score(Y_test,predict_y_test)))"
      ],
      "execution_count": 117,
      "outputs": [
        {
          "output_type": "stream",
          "text": [
            "Auc for logistic regression is 0.9465540641624216\n"
          ],
          "name": "stdout"
        }
      ]
    },
    {
      "cell_type": "markdown",
      "metadata": {
        "id": "rKYF4x5uYj_n",
        "colab_type": "text"
      },
      "source": [
        "### Training Naive bayes model"
      ]
    },
    {
      "cell_type": "code",
      "metadata": {
        "id": "32kER6MhYj_o",
        "colab_type": "code",
        "outputId": "d53bfad1-3867-4577-b794-aea4615b172e",
        "colab": {
          "base_uri": "https://localhost:8080/",
          "height": 187
        }
      },
      "source": [
        "from sklearn.naive_bayes import MultinomialNB\n",
        "from sklearn.metrics import roc_auc_score\n",
        "\n",
        "param = [0.00001,0.0001,0.001,0.01,0.1,1.0,10,100]\n",
        "train_auc = []\n",
        "cv_auc = []\n",
        "\n",
        "for i in tqdm(param):\n",
        "    model = MultinomialNB(alpha=i)\n",
        "    model.fit(train_vect1, Y_train)\n",
        "    predict_y_train = model.predict_log_proba(train_vect1)[:,1] # Taking probability for positive class\n",
        "    t_auc = roc_auc_score(Y_train,predict_y_train)\n",
        "    predict_y_cv = model.predict_log_proba(cv_vect1)[:,1]# Taking probability for positve class\n",
        "    c_auc = roc_auc_score(Y_cv,predict_y_cv)\n",
        "    train_auc.append(t_auc)\n",
        "    cv_auc.append(c_auc)"
      ],
      "execution_count": 118,
      "outputs": [
        {
          "output_type": "stream",
          "text": [
            "\n",
            "  0%|          | 0/8 [00:00<?, ?it/s]\u001b[A\n",
            " 12%|█▎        | 1/8 [00:01<00:11,  1.61s/it]\u001b[A\n",
            " 25%|██▌       | 2/8 [00:03<00:09,  1.61s/it]\u001b[A\n",
            " 38%|███▊      | 3/8 [00:04<00:08,  1.61s/it]\u001b[A\n",
            " 50%|█████     | 4/8 [00:06<00:06,  1.61s/it]\u001b[A\n",
            " 62%|██████▎   | 5/8 [00:08<00:04,  1.61s/it]\u001b[A\n",
            " 75%|███████▌  | 6/8 [00:09<00:03,  1.61s/it]\u001b[A\n",
            " 88%|████████▊ | 7/8 [00:11<00:01,  1.60s/it]\u001b[A\n",
            "100%|██████████| 8/8 [00:12<00:00,  1.60s/it]\u001b[A\n",
            "\u001b[A"
          ],
          "name": "stderr"
        }
      ]
    },
    {
      "cell_type": "code",
      "metadata": {
        "id": "jG73kybSYj_u",
        "colab_type": "code",
        "outputId": "86f56712-0eb9-46fd-f2fe-8705bcf0ebcc",
        "colab": {
          "base_uri": "https://localhost:8080/",
          "height": 283
        }
      },
      "source": [
        "import matplotlib.pyplot as plt\n",
        "import math as m\n",
        "para = [m.log10(x) for x in param]\n",
        "plt.plot(para,train_auc,label='train auc')\n",
        "plt.plot(para,cv_auc,label='validation auc')\n",
        "plt.xlabel(\"log of hyper parameter lambda\")\n",
        "plt.ylabel(\"Auc for each lambda\")\n",
        "plt.grid()\n",
        "plt.legend()\n",
        "plt.show()"
      ],
      "execution_count": 119,
      "outputs": [
        {
          "output_type": "display_data",
          "data": {
            "image/png": "[encoded data removed]",
            "text/plain": [
              "<Figure size 432x288 with 1 Axes>"
            ]
          },
          "metadata": {
            "tags": []
          }
        }
      ]
    },
    {
      "cell_type": "code",
      "metadata": {
        "id": "yMaVQWZaYj_0",
        "colab_type": "code",
        "outputId": "caf9fd52-68cb-4c25-9c52-582176858f40",
        "colab": {
          "base_uri": "https://localhost:8080/",
          "height": 35
        }
      },
      "source": [
        "model = MultinomialNB(alpha=1)\n",
        "model.fit(train_vect1, Y_train)\n",
        "predict_y_test = model.predict_log_proba(test_vect1)[:,1] # Taking probability for positive class\n",
        "print(\"Test auc for naive bayes model is {}\".format(roc_auc_score(Y_test,predict_y_test)))"
      ],
      "execution_count": 0,
      "outputs": [
        {
          "output_type": "stream",
          "text": [
            "Test auc for naive bayes model is 0.8755791924694993\n"
          ],
          "name": "stdout"
        }
      ]
    },
    {
      "cell_type": "markdown",
      "metadata": {
        "id": "Jbotoes8YkB_",
        "colab_type": "text"
      },
      "source": [
        "## Using LSTM Models"
      ]
    },
    {
      "cell_type": "code",
      "metadata": {
        "id": "2WhBWo9WcO-9",
        "colab_type": "code",
        "colab": {}
      },
      "source": [
        "#downloaded = drive.CreateFile({'id':id}) \n",
        "#glove_file = downloaded.GetContentFile('glove.6B.100d.txt') \n",
        "\n",
        "f = open(\"/content/drive/My Drive/Project/glove.6B.300d.txt\",'r',encoding=\"utf-8\")"
      ],
      "execution_count": 0,
      "outputs": []
    },
    {
      "cell_type": "code",
      "metadata": {
        "id": "zIRU0rsTYkB_",
        "colab_type": "code",
        "colab": {}
      },
      "source": [
        "# Tokenizing the essay text data for train dataset\n",
        "# We will train the vectorizer on train data and will use the same on test and cv data.\n",
        "# Credit : https://machinelearningmastery.com/use-word-embedding-layers-deep-learning-keras/\n",
        "# Tokenizing the essay text data for train dataset\n",
        "# We will train the vectorizer on train data and will use the same on test and cv data.\n",
        "# Credit : https://machinelearningmastery.com/use-word-embedding-layers-deep-learning-keras/\n",
        "from keras.preprocessing.text import Tokenizer\n",
        "from keras.preprocessing.sequence import pad_sequences\n",
        "from keras.layers import Dense,Input\n",
        "from numpy import asarray\n",
        "t  = Tokenizer(num_words=40000)\n",
        "t.fit_on_texts(train_x)\n",
        "vocab_size = len(t.word_index)+1\n",
        "# Integer coding all the words.\n",
        "encoded_essay = t.texts_to_sequences(train_x)\n",
        "# defining a max size for padding.\n",
        "max_len = 150\n",
        "# padding the vectors of each datapoint to fixed length of 600.\n",
        "train_sequence = pad_sequences(encoded_essay,maxlen = max_len,padding='post')\n",
        "\n",
        "# Vectorizing test data\n",
        "# Integer coding all the words.\n",
        "encoded_essay = t.texts_to_sequences(test_x)\n",
        "# defining a max size for padding.\n",
        "max_len = 150\n",
        "# padding the vectors of each datapoint to fixed length of 600.\n",
        "test_sequence = pad_sequences(encoded_essay,maxlen = max_len,padding='post')\n",
        "\n",
        "# Vectorizing cv data\n",
        "# Integer coding all the words.\n",
        "encoded_essay = t.texts_to_sequences(cv_x)\n",
        "# defining a max size for padding.\n",
        "max_len = 150\n",
        "# padding the vectors of each datapoint to fixed length of 600.\n",
        "cv_sequence = pad_sequences(encoded_essay,maxlen = max_len,padding='post')\n",
        "\n",
        "# we will load the whole glove vectors .\n",
        "embeddings_index = {}\n",
        "# Opening the file\n",
        "f = open(\"/content/drive/My Drive/Project/glove.6B.300d.txt\",'r',encoding=\"utf-8\")\n",
        "for line in f:\n",
        "\tvalues = line.split()\n",
        "\tword = values[0]\n",
        "\tcoefs = asarray(values[1:], dtype='float32')\n",
        "\tembeddings_index[word] = coefs\n",
        "f.close()"
      ],
      "execution_count": 0,
      "outputs": []
    },
    {
      "cell_type": "code",
      "metadata": {
        "id": "WFLf1fXSYkCC",
        "colab_type": "code",
        "colab": {}
      },
      "source": [
        "# Credit : https://machinelearningmastery.com/use-word-embedding-layers-deep-learning-keras/\n",
        "import numpy as np\n",
        "embedding_matrix = np.zeros((vocab_size, 300))\n",
        "for word, i in t.word_index.items():\n",
        "\tembedding_vector = embeddings_index.get(word)\n",
        "\tif embedding_vector is not None:\n",
        "\t\tembedding_matrix[i] = embedding_vector"
      ],
      "execution_count": 0,
      "outputs": []
    },
    {
      "cell_type": "code",
      "metadata": {
        "id": "fda3L5s7sZ1q",
        "colab_type": "code",
        "colab": {
          "base_uri": "https://localhost:8080/",
          "height": 204
        },
        "outputId": "0e042804-d6b4-4c61-c918-93cd53fb2b17"
      },
      "source": [
        "#from google.colab import drive\n",
        "#drive.mount('/content/drive')\n",
        "test_df = pd.read_csv(\"/content/drive/My Drive/Project/test.csv\")\n",
        "test_df.head()"
      ],
      "execution_count": 28,
      "outputs": [
        {
          "output_type": "execute_result",
          "data": {
            "text/html": [
              "<div>\n",
              "<style scoped>\n",
              "    .dataframe tbody tr th:only-of-type {\n",
              "        vertical-align: middle;\n",
              "    }\n",
              "\n",
              "    .dataframe tbody tr th {\n",
              "        vertical-align: top;\n",
              "    }\n",
              "\n",
              "    .dataframe thead th {\n",
              "        text-align: right;\n",
              "    }\n",
              "</style>\n",
              "<table border=\"1\" class=\"dataframe\">\n",
              "  <thead>\n",
              "    <tr style=\"text-align: right;\">\n",
              "      <th></th>\n",
              "      <th>id</th>\n",
              "      <th>comment_text</th>\n",
              "    </tr>\n",
              "  </thead>\n",
              "  <tbody>\n",
              "    <tr>\n",
              "      <th>0</th>\n",
              "      <td>7097320</td>\n",
              "      <td>[ Integrity means that you pay your debts.]\\n\\...</td>\n",
              "    </tr>\n",
              "    <tr>\n",
              "      <th>1</th>\n",
              "      <td>7097321</td>\n",
              "      <td>This is malfeasance by the Administrator and t...</td>\n",
              "    </tr>\n",
              "    <tr>\n",
              "      <th>2</th>\n",
              "      <td>7097322</td>\n",
              "      <td>@Rmiller101 - Spoken like a true elitist. But ...</td>\n",
              "    </tr>\n",
              "    <tr>\n",
              "      <th>3</th>\n",
              "      <td>7097323</td>\n",
              "      <td>Paul: Thank you for your kind words.  I do, in...</td>\n",
              "    </tr>\n",
              "    <tr>\n",
              "      <th>4</th>\n",
              "      <td>7097324</td>\n",
              "      <td>Sorry you missed high school. Eisenhower sent ...</td>\n",
              "    </tr>\n",
              "  </tbody>\n",
              "</table>\n",
              "</div>"
            ],
            "text/plain": [
              "        id                                       comment_text\n",
              "0  7097320  [ Integrity means that you pay your debts.]\\n\\...\n",
              "1  7097321  This is malfeasance by the Administrator and t...\n",
              "2  7097322  @Rmiller101 - Spoken like a true elitist. But ...\n",
              "3  7097323  Paul: Thank you for your kind words.  I do, in...\n",
              "4  7097324  Sorry you missed high school. Eisenhower sent ..."
            ]
          },
          "metadata": {
            "tags": []
          },
          "execution_count": 28
        }
      ]
    },
    {
      "cell_type": "code",
      "metadata": {
        "id": "nnMbfg7gsZxb",
        "colab_type": "code",
        "colab": {
          "base_uri": "https://localhost:8080/",
          "height": 221
        },
        "outputId": "ee51cbc8-74cd-47f1-87a6-a266ba85806d"
      },
      "source": [
        "# Preprocessing the comments.\n",
        "test_preprocessed = []\n",
        "bad_found = []\n",
        "from tqdm import tqdm\n",
        "for sent in tqdm(test_df['comment_text'].values):\n",
        "    sent = process_sent(sent)\n",
        "    line = ''\n",
        "    for wrd in sent.split():\n",
        "        if(len(wrd)>2):\n",
        "            line += \" \" +wrd.lower()\n",
        "    line = re.sub(r\"[']\",'',line)\n",
        "    test_preprocessed.append(line)\n",
        "\n",
        "test_df['comment_text'] = test_preprocessed\n",
        "test_df.head()"
      ],
      "execution_count": 29,
      "outputs": [
        {
          "output_type": "stream",
          "text": [
            "100%|██████████| 97320/97320 [00:06<00:00, 15795.57it/s]\n"
          ],
          "name": "stderr"
        },
        {
          "output_type": "execute_result",
          "data": {
            "text/html": [
              "<div>\n",
              "<style scoped>\n",
              "    .dataframe tbody tr th:only-of-type {\n",
              "        vertical-align: middle;\n",
              "    }\n",
              "\n",
              "    .dataframe tbody tr th {\n",
              "        vertical-align: top;\n",
              "    }\n",
              "\n",
              "    .dataframe thead th {\n",
              "        text-align: right;\n",
              "    }\n",
              "</style>\n",
              "<table border=\"1\" class=\"dataframe\">\n",
              "  <thead>\n",
              "    <tr style=\"text-align: right;\">\n",
              "      <th></th>\n",
              "      <th>id</th>\n",
              "      <th>comment_text</th>\n",
              "    </tr>\n",
              "  </thead>\n",
              "  <tbody>\n",
              "    <tr>\n",
              "      <th>0</th>\n",
              "      <td>7097320</td>\n",
              "      <td>integrity means that you pay your debts does ...</td>\n",
              "    </tr>\n",
              "    <tr>\n",
              "      <th>1</th>\n",
              "      <td>7097321</td>\n",
              "      <td>this malfeasance the administrator and the bo...</td>\n",
              "    </tr>\n",
              "    <tr>\n",
              "      <th>2</th>\n",
              "      <td>7097322</td>\n",
              "      <td>rmiller spoken like true elitist but look out...</td>\n",
              "    </tr>\n",
              "    <tr>\n",
              "      <th>3</th>\n",
              "      <td>7097323</td>\n",
              "      <td>paul thank you for your kind words indeed hav...</td>\n",
              "    </tr>\n",
              "    <tr>\n",
              "      <th>4</th>\n",
              "      <td>7097324</td>\n",
              "      <td>sorry you missed high school eisenhower sent ...</td>\n",
              "    </tr>\n",
              "  </tbody>\n",
              "</table>\n",
              "</div>"
            ],
            "text/plain": [
              "        id                                       comment_text\n",
              "0  7097320   integrity means that you pay your debts does ...\n",
              "1  7097321   this malfeasance the administrator and the bo...\n",
              "2  7097322   rmiller spoken like true elitist but look out...\n",
              "3  7097323   paul thank you for your kind words indeed hav...\n",
              "4  7097324   sorry you missed high school eisenhower sent ..."
            ]
          },
          "metadata": {
            "tags": []
          },
          "execution_count": 29
        }
      ]
    },
    {
      "cell_type": "code",
      "metadata": {
        "id": "wcpFgf1SddiJ",
        "colab_type": "code",
        "colab": {}
      },
      "source": [
        "\n",
        "# Vectorizing test data\n",
        "# Integer coding all the words.\n",
        "encoded_essay1 = t.texts_to_sequences(test_df['comment_text'])\n",
        "# defining a max size for padding.\n",
        "max_len = 150\n",
        "# padding the vectors of each datapoint to fixed length of 600.\n",
        "test_sequence1 = pad_sequences(encoded_essay1,maxlen = max_len,padding='post')"
      ],
      "execution_count": 0,
      "outputs": []
    },
    {
      "cell_type": "markdown",
      "metadata": {
        "id": "NI6ijwfIs9qW",
        "colab_type": "text"
      },
      "source": [
        "# First Architecture"
      ]
    },
    {
      "cell_type": "code",
      "metadata": {
        "id": "k5jhe5y7ekrq",
        "colab_type": "code",
        "colab": {
          "base_uri": "https://localhost:8080/",
          "height": 357
        },
        "outputId": "1f05d16b-8165-4dc5-f72e-4d9e1fed0175"
      },
      "source": [
        "import keras\n",
        "from keras.models import Sequential\n",
        "from keras.layers import Dense\n",
        "from keras.layers import LSTM, GRU\n",
        "from keras.layers.embeddings import Embedding\n",
        "from keras.preprocessing import sequence\n",
        "from keras.layers import MaxPooling1D\n",
        "from keras.layers import Flatten, GlobalMaxPooling1D, GlobalAveragePooling1D\n",
        "from keras.layers import Dropout, BatchNormalization, Input, SpatialDropout1D\n",
        "from keras.layers import Dense, Bidirectional, concatenate\n",
        "from keras.models import Model\n",
        "from keras.optimizers import Adam\n",
        "from keras_self_attention import SeqSelfAttention\n",
        "import keras.backend as K\n",
        "\n",
        "embedding_vector_length = 100\n",
        "input1 = Input(shape=(150,))\n",
        "e1 = Embedding(40000,embedding_vector_length, input_length=150)(input1)\n",
        "x1 = Bidirectional(LSTM(128, return_sequences=True, dropout=0.2, recurrent_dropout=0.2))(e1)\n",
        "att = SeqSelfAttention(attention_activation='sigmoid')(x1)\n",
        "\n",
        "x1 = Flatten()(att)\n",
        "output = Dense(1, activation='sigmoid')(x1)\n",
        "model = Model(inputs=[input1,], outputs=[output])\n",
        "model.compile(loss='binary_crossentropy', optimizer='adam', metrics=['accuracy',])\n",
        "model.summary()"
      ],
      "execution_count": 66,
      "outputs": [
        {
          "output_type": "stream",
          "text": [
            "Model: \"model_5\"\n",
            "_________________________________________________________________\n",
            "Layer (type)                 Output Shape              Param #   \n",
            "=================================================================\n",
            "input_6 (InputLayer)         (None, 150)               0         \n",
            "_________________________________________________________________\n",
            "embedding_6 (Embedding)      (None, 150, 100)          4000000   \n",
            "_________________________________________________________________\n",
            "bidirectional_6 (Bidirection (None, 150, 256)          234496    \n",
            "_________________________________________________________________\n",
            "seq_self_attention_5 (SeqSel (None, 150, 256)          16449     \n",
            "_________________________________________________________________\n",
            "flatten_5 (Flatten)          (None, 38400)             0         \n",
            "_________________________________________________________________\n",
            "dense_5 (Dense)              (None, 1)                 38401     \n",
            "=================================================================\n",
            "Total params: 4,289,346\n",
            "Trainable params: 4,289,346\n",
            "Non-trainable params: 0\n",
            "_________________________________________________________________\n"
          ],
          "name": "stdout"
        }
      ]
    },
    {
      "cell_type": "code",
      "metadata": {
        "id": "bdFfNlk1e7au",
        "colab_type": "code",
        "colab": {
          "base_uri": "https://localhost:8080/",
          "height": 255
        },
        "outputId": "06844879-852b-48eb-d05d-db35d0a50128"
      },
      "source": [
        "model.fit(train_sequence, Y_train, nb_epoch=5, batch_size=512, validation_data=(cv_sequence, Y_cv))"
      ],
      "execution_count": 67,
      "outputs": [
        {
          "output_type": "stream",
          "text": [
            "/usr/local/lib/python3.6/dist-packages/ipykernel_launcher.py:1: UserWarning: The `nb_epoch` argument in `fit` has been renamed `epochs`.\n",
            "  \"\"\"Entry point for launching an IPython kernel.\n"
          ],
          "name": "stderr"
        },
        {
          "output_type": "stream",
          "text": [
            "Train on 1282192 samples, validate on 142466 samples\n",
            "Epoch 1/5\n",
            "1282192/1282192 [==============================] - 2665s 2ms/step - loss: 0.1483 - acc: 0.9454 - val_loss: 0.1334 - val_acc: 0.9491\n",
            "Epoch 2/5\n",
            "1282192/1282192 [==============================] - 2657s 2ms/step - loss: 0.1256 - acc: 0.9515 - val_loss: 0.1307 - val_acc: 0.9495\n",
            "Epoch 3/5\n",
            "1282192/1282192 [==============================] - 2654s 2ms/step - loss: 0.1155 - acc: 0.9552 - val_loss: 0.1330 - val_acc: 0.9494\n",
            "Epoch 4/5\n",
            "1282192/1282192 [==============================] - 2659s 2ms/step - loss: 0.1037 - acc: 0.9600 - val_loss: 0.1407 - val_acc: 0.9477\n",
            "Epoch 5/5\n",
            "1282192/1282192 [==============================] - 2665s 2ms/step - loss: 0.0924 - acc: 0.9646 - val_loss: 0.1522 - val_acc: 0.9463\n"
          ],
          "name": "stdout"
        },
        {
          "output_type": "execute_result",
          "data": {
            "text/plain": [
              "<keras.callbacks.History at 0x7f0bd2deaf98>"
            ]
          },
          "metadata": {
            "tags": []
          },
          "execution_count": 67
        }
      ]
    },
    {
      "cell_type": "code",
      "metadata": {
        "id": "p1W7ZufTe7Wt",
        "colab_type": "code",
        "colab": {
          "base_uri": "https://localhost:8080/",
          "height": 34
        },
        "outputId": "8f04495f-0790-4150-d9a8-88d3c53fa7aa"
      },
      "source": [
        "# Roc auc\n",
        "predicted_y = model.predict(test_sequence,batch_size=512)\n",
        "from sklearn.metrics import roc_auc_score\n",
        "print(roc_auc_score(Y_test,predicted_y))"
      ],
      "execution_count": 69,
      "outputs": [
        {
          "output_type": "stream",
          "text": [
            "0.9358755310733398\n"
          ],
          "name": "stdout"
        }
      ]
    },
    {
      "cell_type": "code",
      "metadata": {
        "id": "smCQ902La-cO",
        "colab_type": "code",
        "colab": {
          "base_uri": "https://localhost:8080/",
          "height": 34
        },
        "outputId": "1caba7ca-3263-4e86-cd3c-0a00b67e7974"
      },
      "source": [
        "eval = JigsawEvaluator(y_binary, y_identity_binary)\n",
        "print(eval.get_final_metric(predicted_y))"
      ],
      "execution_count": 74,
      "outputs": [
        {
          "output_type": "stream",
          "text": [
            "0.8823309859591929\n"
          ],
          "name": "stdout"
        }
      ]
    },
    {
      "cell_type": "code",
      "metadata": {
        "id": "Al19mijyZq9i",
        "colab_type": "code",
        "colab": {}
      },
      "source": [
        "y_pre = model.predict(test_sequence1,batch_size=512)\n",
        "submission = pd.DataFrame({'id': test_df['id'].values})\n",
        "submission['prediction'] = y_pre\n",
        "submission.to_csv(\"submissionNew2.csv\",index=False) \n"
      ],
      "execution_count": 0,
      "outputs": []
    },
    {
      "cell_type": "code",
      "metadata": {
        "id": "Mled4ZmNZrLu",
        "colab_type": "code",
        "colab": {}
      },
      "source": [
        "from google.colab import files\n",
        "files.download( \"/content/submissionNew2.csv\" )  "
      ],
      "execution_count": 0,
      "outputs": []
    },
    {
      "cell_type": "markdown",
      "metadata": {
        "id": "s_DWPQ8JNOGY",
        "colab_type": "text"
      },
      "source": [
        "## First Bi-LSTM architecture"
      ]
    },
    {
      "cell_type": "code",
      "metadata": {
        "id": "qyOSj3q2YkCL",
        "colab_type": "code",
        "outputId": "d348acb4-f330-4c5d-895d-f586a0639b0e",
        "colab": {
          "base_uri": "https://localhost:8080/",
          "height": 454
        }
      },
      "source": [
        "from keras.models import Sequential\n",
        "from keras.layers import Dense\n",
        "from keras.layers import LSTM\n",
        "from keras.layers.embeddings import Embedding\n",
        "from keras.preprocessing import sequence\n",
        "from keras.layers import MaxPooling1D\n",
        "from keras.layers import Flatten, GlobalMaxPool1D\n",
        "from keras.layers import Dropout, BatchNormalization\n",
        "from keras.layers import Dense, Bidirectional\n",
        "from keras.models import Model\n",
        "\n",
        "embedding_vecor_length = 64\n",
        "model = Sequential()\n",
        "model.add(Embedding(vocab_size, embedding_vecor_length, input_shape=(150,)))\n",
        "model.add(Bidirectional(LSTM(128)))\n",
        "model.add(Dropout(0.3))\n",
        "model.add(GlobalMaxPllo1D())\n",
        "model.add(BatchNormalization())\n",
        "model.add(Dense(768,activation='relu'))\n",
        "model.add(Dropout(0.50))\n",
        "model.add(GlobalMaxPllo1D())\n",
        "model.add(BatchNormalization())\n",
        "model.add(Dense(1, activation='sigmoid'))\n",
        "model.compile(loss='binary_crossentropy', optimizer='adam', metrics=['accuracy'])\n",
        "print(model.summary())"
      ],
      "execution_count": 0,
      "outputs": [
        {
          "output_type": "stream",
          "text": [
            "_________________________________________________________________\n",
            "Layer (type)                 Output Shape              Param #   \n",
            "=================================================================\n",
            "embedding_11 (Embedding)     (None, 200, 64)           6223104   \n",
            "_________________________________________________________________\n",
            "bidirectional_10 (Bidirectio (None, 256)               197632    \n",
            "_________________________________________________________________\n",
            "dropout_15 (Dropout)         (None, 256)               0         \n",
            "_________________________________________________________________\n",
            "batch_normalization_5 (Batch (None, 256)               1024      \n",
            "_________________________________________________________________\n",
            "dense_15 (Dense)             (None, 768)               197376    \n",
            "_________________________________________________________________\n",
            "dropout_16 (Dropout)         (None, 768)               0         \n",
            "_________________________________________________________________\n",
            "batch_normalization_6 (Batch (None, 768)               3072      \n",
            "_________________________________________________________________\n",
            "dense_16 (Dense)             (None, 1)                 769       \n",
            "=================================================================\n",
            "Total params: 6,622,977\n",
            "Trainable params: 6,620,929\n",
            "Non-trainable params: 2,048\n",
            "_________________________________________________________________\n",
            "None\n"
          ],
          "name": "stdout"
        }
      ]
    },
    {
      "cell_type": "code",
      "metadata": {
        "id": "MiMeplYRYkCN",
        "colab_type": "code",
        "outputId": "3742c13c-e815-4020-cdb1-648b419f403b",
        "colab": {
          "base_uri": "https://localhost:8080/",
          "height": 272
        }
      },
      "source": [
        "model.fit(train_sequence, Y_train, nb_epoch=5, batch_size=512, validation_data=(cv_sequence, Y_cv))"
      ],
      "execution_count": 0,
      "outputs": [
        {
          "output_type": "stream",
          "text": [
            "/usr/local/lib/python3.6/dist-packages/ipykernel_launcher.py:1: UserWarning: The `nb_epoch` argument in `fit` has been renamed `epochs`.\n",
            "  \"\"\"Entry point for launching an IPython kernel.\n"
          ],
          "name": "stderr"
        },
        {
          "output_type": "stream",
          "text": [
            "Train on 190911 samples, validate on 47728 samples\n",
            "Epoch 1/5\n",
            "190911/190911 [==============================] - 266s 1ms/step - loss: 0.2945 - acc: 0.8903 - val_loss: 0.2760 - val_acc: 0.8859\n",
            "Epoch 2/5\n",
            "190911/190911 [==============================] - 259s 1ms/step - loss: 0.1441 - acc: 0.9477 - val_loss: 0.1511 - val_acc: 0.9442\n",
            "Epoch 3/5\n",
            "190911/190911 [==============================] - 258s 1ms/step - loss: 0.1232 - acc: 0.9523 - val_loss: 0.1696 - val_acc: 0.9411\n",
            "Epoch 4/5\n",
            "190911/190911 [==============================] - 257s 1ms/step - loss: 0.1061 - acc: 0.9584 - val_loss: 0.1763 - val_acc: 0.9383\n",
            "Epoch 5/5\n",
            "190911/190911 [==============================] - 253s 1ms/step - loss: 0.0857 - acc: 0.9663 - val_loss: 0.1948 - val_acc: 0.9394\n"
          ],
          "name": "stdout"
        },
        {
          "output_type": "execute_result",
          "data": {
            "text/plain": [
              "<keras.callbacks.History at 0x7f28de5322e8>"
            ]
          },
          "metadata": {
            "tags": []
          },
          "execution_count": 72
        }
      ]
    },
    {
      "cell_type": "code",
      "metadata": {
        "id": "FKNc-qIudkz1",
        "colab_type": "code",
        "outputId": "2c83af66-177a-4150-acce-4724449bb946",
        "colab": {
          "base_uri": "https://localhost:8080/",
          "height": 35
        }
      },
      "source": [
        "# Roc auc\n",
        "predicted_y = model.predict(test_sequence,batch_size=512)\n",
        "from sklearn.metrics import roc_auc_score\n",
        "print(roc_auc_score(Y_test,predicted_y))\n"
      ],
      "execution_count": 0,
      "outputs": [
        {
          "output_type": "stream",
          "text": [
            "0.9038698075698687\n"
          ],
          "name": "stdout"
        }
      ]
    },
    {
      "cell_type": "markdown",
      "metadata": {
        "id": "vdos0aE0NJdS",
        "colab_type": "text"
      },
      "source": [
        "## Second Bi-LSTM architecture"
      ]
    },
    {
      "cell_type": "code",
      "metadata": {
        "id": "0feWATevhwF6",
        "colab_type": "code",
        "outputId": "973a4754-0ff6-4137-8d28-422df2502a7d",
        "colab": {
          "base_uri": "https://localhost:8080/",
          "height": 612
        }
      },
      "source": [
        "from keras.models import Sequential\n",
        "from keras.layers import Dense\n",
        "from keras.layers import LSTM\n",
        "from keras.layers.embeddings import Embedding\n",
        "from keras.preprocessing import sequence\n",
        "from keras.layers import MaxPooling1D\n",
        "from keras.layers import Flatten, GlobalMaxPool1D\n",
        "from keras.layers import Dropout, BatchNormalization, Input\n",
        "from keras.layers import Dense, Bidirectional, concatenate\n",
        "from keras.models import Model\n",
        "from keras.optimizers import Adam\n",
        "\n",
        "embedding_vector_length = 100\n",
        "input1 = Input(shape=(150,))\n",
        "x1 = Embedding(vocab_size,embedding_vector_length, input_length=150)(input1)\n",
        "x1 = Bidirectional(LSTM(200,return_sequences=True))(x1)\n",
        "x1 = Dropout(0.3)(x1)\n",
        "x1 = GlobalMaxPool1D()(x1)\n",
        "\n",
        "#input2 = Input(shape=(150,))\n",
        "x2 = Embedding(vocab_size,embedding_vector_length, input_length=150)(input1)\n",
        "x2 = Bidirectional(LSTM(200,return_sequences=True))(x2)\n",
        "x2 = Dropout(0.5)(x2)\n",
        "x2 = GlobalMaxPool1D()(x2)\n",
        "\n",
        "x = concatenate([x1, x2])\n",
        "x = Dense(75, activation='relu')(x)\n",
        "x = Dropout(0.2)(x)\n",
        "output = Dense(1, activation='sigmoid')(x)\n",
        "model3 = Model(inputs=[input1,], outputs = output)\n",
        "#adam = Adam(lr=0.0001)\n",
        "model3.compile(loss='binary_crossentropy', optimizer= 'adam', metrics=['accuracy'])\n",
        "model3.summary()"
      ],
      "execution_count": 0,
      "outputs": [
        {
          "output_type": "stream",
          "text": [
            "Model: \"model_3\"\n",
            "__________________________________________________________________________________________________\n",
            "Layer (type)                    Output Shape         Param #     Connected to                     \n",
            "==================================================================================================\n",
            "input_3 (InputLayer)            (None, 150)          0                                            \n",
            "__________________________________________________________________________________________________\n",
            "embedding_5 (Embedding)         (None, 150, 100)     40000000    input_3[0][0]                    \n",
            "__________________________________________________________________________________________________\n",
            "embedding_6 (Embedding)         (None, 150, 100)     40000000    input_3[0][0]                    \n",
            "__________________________________________________________________________________________________\n",
            "bidirectional_5 (Bidirectional) (None, 150, 400)     481600      embedding_5[0][0]                \n",
            "__________________________________________________________________________________________________\n",
            "bidirectional_6 (Bidirectional) (None, 150, 400)     481600      embedding_6[0][0]                \n",
            "__________________________________________________________________________________________________\n",
            "dropout_7 (Dropout)             (None, 150, 400)     0           bidirectional_5[0][0]            \n",
            "__________________________________________________________________________________________________\n",
            "dropout_8 (Dropout)             (None, 150, 400)     0           bidirectional_6[0][0]            \n",
            "__________________________________________________________________________________________________\n",
            "global_max_pooling1d_5 (GlobalM (None, 400)          0           dropout_7[0][0]                  \n",
            "__________________________________________________________________________________________________\n",
            "global_max_pooling1d_6 (GlobalM (None, 400)          0           dropout_8[0][0]                  \n",
            "__________________________________________________________________________________________________\n",
            "concatenate_3 (Concatenate)     (None, 800)          0           global_max_pooling1d_5[0][0]     \n",
            "                                                                 global_max_pooling1d_6[0][0]     \n",
            "__________________________________________________________________________________________________\n",
            "dense_5 (Dense)                 (None, 75)           60075       concatenate_3[0][0]              \n",
            "__________________________________________________________________________________________________\n",
            "dropout_9 (Dropout)             (None, 75)           0           dense_5[0][0]                    \n",
            "__________________________________________________________________________________________________\n",
            "dense_6 (Dense)                 (None, 1)            76          dropout_9[0][0]                  \n",
            "==================================================================================================\n",
            "Total params: 81,023,351\n",
            "Trainable params: 81,023,351\n",
            "Non-trainable params: 0\n",
            "__________________________________________________________________________________________________\n"
          ],
          "name": "stdout"
        }
      ]
    },
    {
      "cell_type": "code",
      "metadata": {
        "id": "QFz3kfS0hwEA",
        "colab_type": "code",
        "outputId": "30e05a7f-ced7-4d8a-c25e-38c6b7b35d2d",
        "colab": {
          "base_uri": "https://localhost:8080/",
          "height": 187
        }
      },
      "source": [
        "model3.fit(train_sequence, Y_train, epochs=4, batch_size=512, validation_data=[cv_sequence, Y_cv])"
      ],
      "execution_count": 0,
      "outputs": [
        {
          "output_type": "stream",
          "text": [
            "Train on 1282192 samples, validate on 142466 samples\n",
            "Epoch 1/4\n",
            "1282192/1282192 [==============================] - 4279s 3ms/step - loss: 0.1440 - acc: 0.9459 - val_loss: 0.1568 - val_acc: 0.9472\n",
            "Epoch 2/4\n",
            "1282192/1282192 [==============================] - 4267s 3ms/step - loss: 0.1159 - acc: 0.9536 - val_loss: 0.1421 - val_acc: 0.9489\n",
            "Epoch 3/4\n",
            "1282192/1282192 [==============================] - 4268s 3ms/step - loss: 0.0956 - acc: 0.9610 - val_loss: 0.1463 - val_acc: 0.9430\n",
            "Epoch 4/4\n",
            "1282192/1282192 [==============================] - 4270s 3ms/step - loss: 0.0711 - acc: 0.9714 - val_loss: 0.1569 - val_acc: 0.9380\n"
          ],
          "name": "stdout"
        },
        {
          "output_type": "execute_result",
          "data": {
            "text/plain": [
              "<keras.callbacks.History at 0x7f9dcd6d9b38>"
            ]
          },
          "metadata": {
            "tags": []
          },
          "execution_count": 42
        }
      ]
    },
    {
      "cell_type": "code",
      "metadata": {
        "id": "k6amyC__cyws",
        "colab_type": "code",
        "outputId": "eac82e49-bb03-453d-84bc-ffc8427aede3",
        "colab": {
          "base_uri": "https://localhost:8080/",
          "height": 34
        }
      },
      "source": [
        "# Roc auc\n",
        "predicted_y = model3.predict(test_sequence,batch_size=512)\n",
        "from sklearn.metrics import roc_auc_score\n",
        "print(roc_auc_score(Y_test,predicted_y))\n"
      ],
      "execution_count": 0,
      "outputs": [
        {
          "output_type": "stream",
          "text": [
            "0.9373771542809413\n"
          ],
          "name": "stdout"
        }
      ]
    },
    {
      "cell_type": "code",
      "metadata": {
        "id": "uwbZScEQ2Pdk",
        "colab_type": "code",
        "colab": {}
      },
      "source": [
        "y_pre = model3.predict(test_sequence1,batch_size=512)\n",
        "submission = pd.DataFrame({'id': test_df['id'].values})\n",
        "submission['prediction'] = y_pre\n",
        "submission.to_csv(\"submission11.csv\",index=False) \n"
      ],
      "execution_count": 0,
      "outputs": []
    },
    {
      "cell_type": "code",
      "metadata": {
        "id": "PHOY6RKX7k0V",
        "colab_type": "code",
        "colab": {}
      },
      "source": [
        "from google.colab import files\n",
        "files.download( \"/content/submission11.csv\" )  "
      ],
      "execution_count": 0,
      "outputs": []
    },
    {
      "cell_type": "markdown",
      "metadata": {
        "id": "Fkuzww6cN1-s",
        "colab_type": "text"
      },
      "source": [
        "## Third Bi-LSTM architecture"
      ]
    },
    {
      "cell_type": "code",
      "metadata": {
        "id": "V8oZknWteWTD",
        "colab_type": "code",
        "outputId": "c140ad09-5915-4258-f795-07fde471b1ea",
        "colab": {
          "base_uri": "https://localhost:8080/",
          "height": 887
        }
      },
      "source": [
        "from keras.models import Sequential\n",
        "from keras.layers import Dense\n",
        "from keras.layers import LSTM\n",
        "from keras.layers.embeddings import Embedding\n",
        "from keras.preprocessing import sequence\n",
        "from keras.layers import MaxPooling1D\n",
        "from keras.layers import Flatten, GlobalMaxPool1D\n",
        "from keras.layers import Dropout, BatchNormalization, Input\n",
        "from keras.layers import Dense, Bidirectional, concatenate\n",
        "from keras.models import Model\n",
        "from keras.optimizers import Adam\n",
        "\n",
        "embedding_vector_length = 100\n",
        "input1 = Input(shape=(150,))\n",
        "x1 = Embedding(vocab_size,embedding_vector_length, input_length=150)(input1)\n",
        "x1 = Bidirectional(LSTM(128,return_sequences=True))(x1)\n",
        "x1 = GlobalMaxPool1D()(x1)\n",
        "\n",
        "\n",
        "x2 = Embedding(vocab_size,embedding_vector_length, input_length=150)(input1)\n",
        "x2 = Bidirectional(LSTM(128,return_sequences=True))(x2)\n",
        "x2 = GlobalMaxPool1D()(x2)\n",
        "\n",
        "x = concatenate([x1, x2])\n",
        "x = Dense(64, activation='relu')(x)\n",
        "x = Dropout(0.1)(x)\n",
        "output = Dense(1, activation='sigmoid')(x)\n",
        "model4 = Model(inputs=[input1,], outputs = output)\n",
        "#adam = Adam(lr=0.0001)\n",
        "model4.compile(loss='binary_crossentropy', optimizer= 'adam', metrics=['accuracy'])\n",
        "model4.summary()"
      ],
      "execution_count": 0,
      "outputs": [
        {
          "output_type": "stream",
          "text": [
            "WARNING: Logging before flag parsing goes to stderr.\n",
            "W0830 05:13:28.912689 139808314402688 deprecation_wrapper.py:119] From /usr/local/lib/python3.6/dist-packages/keras/backend/tensorflow_backend.py:66: The name tf.get_default_graph is deprecated. Please use tf.compat.v1.get_default_graph instead.\n",
            "\n",
            "W0830 05:13:28.966059 139808314402688 deprecation_wrapper.py:119] From /usr/local/lib/python3.6/dist-packages/keras/backend/tensorflow_backend.py:541: The name tf.placeholder is deprecated. Please use tf.compat.v1.placeholder instead.\n",
            "\n",
            "W0830 05:13:28.973107 139808314402688 deprecation_wrapper.py:119] From /usr/local/lib/python3.6/dist-packages/keras/backend/tensorflow_backend.py:4432: The name tf.random_uniform is deprecated. Please use tf.random.uniform instead.\n",
            "\n",
            "W0830 05:13:30.026833 139808314402688 deprecation_wrapper.py:119] From /usr/local/lib/python3.6/dist-packages/keras/backend/tensorflow_backend.py:148: The name tf.placeholder_with_default is deprecated. Please use tf.compat.v1.placeholder_with_default instead.\n",
            "\n",
            "W0830 05:13:30.035221 139808314402688 deprecation.py:506] From /usr/local/lib/python3.6/dist-packages/keras/backend/tensorflow_backend.py:3733: calling dropout (from tensorflow.python.ops.nn_ops) with keep_prob is deprecated and will be removed in a future version.\n",
            "Instructions for updating:\n",
            "Please use `rate` instead of `keep_prob`. Rate should be set to `rate = 1 - keep_prob`.\n",
            "W0830 05:13:30.064623 139808314402688 deprecation_wrapper.py:119] From /usr/local/lib/python3.6/dist-packages/keras/optimizers.py:793: The name tf.train.Optimizer is deprecated. Please use tf.compat.v1.train.Optimizer instead.\n",
            "\n",
            "W0830 05:13:30.086747 139808314402688 deprecation_wrapper.py:119] From /usr/local/lib/python3.6/dist-packages/keras/backend/tensorflow_backend.py:3657: The name tf.log is deprecated. Please use tf.math.log instead.\n",
            "\n",
            "W0830 05:13:30.092208 139808314402688 deprecation.py:323] From /usr/local/lib/python3.6/dist-packages/tensorflow/python/ops/nn_impl.py:180: add_dispatch_support.<locals>.wrapper (from tensorflow.python.ops.array_ops) is deprecated and will be removed in a future version.\n",
            "Instructions for updating:\n",
            "Use tf.where in 2.0, which has the same broadcast rule as np.where\n"
          ],
          "name": "stderr"
        },
        {
          "output_type": "stream",
          "text": [
            "Model: \"model_1\"\n",
            "__________________________________________________________________________________________________\n",
            "Layer (type)                    Output Shape         Param #     Connected to                     \n",
            "==================================================================================================\n",
            "input_1 (InputLayer)            (None, 150)          0                                            \n",
            "__________________________________________________________________________________________________\n",
            "embedding_1 (Embedding)         (None, 150, 100)     40000000    input_1[0][0]                    \n",
            "__________________________________________________________________________________________________\n",
            "embedding_2 (Embedding)         (None, 150, 100)     40000000    input_1[0][0]                    \n",
            "__________________________________________________________________________________________________\n",
            "bidirectional_1 (Bidirectional) (None, 150, 256)     234496      embedding_1[0][0]                \n",
            "__________________________________________________________________________________________________\n",
            "bidirectional_2 (Bidirectional) (None, 150, 256)     234496      embedding_2[0][0]                \n",
            "__________________________________________________________________________________________________\n",
            "global_max_pooling1d_1 (GlobalM (None, 256)          0           bidirectional_1[0][0]            \n",
            "__________________________________________________________________________________________________\n",
            "global_max_pooling1d_2 (GlobalM (None, 256)          0           bidirectional_2[0][0]            \n",
            "__________________________________________________________________________________________________\n",
            "concatenate_1 (Concatenate)     (None, 512)          0           global_max_pooling1d_1[0][0]     \n",
            "                                                                 global_max_pooling1d_2[0][0]     \n",
            "__________________________________________________________________________________________________\n",
            "dense_1 (Dense)                 (None, 64)           32832       concatenate_1[0][0]              \n",
            "__________________________________________________________________________________________________\n",
            "dropout_1 (Dropout)             (None, 64)           0           dense_1[0][0]                    \n",
            "__________________________________________________________________________________________________\n",
            "dense_2 (Dense)                 (None, 1)            65          dropout_1[0][0]                  \n",
            "==================================================================================================\n",
            "Total params: 80,501,889\n",
            "Trainable params: 80,501,889\n",
            "Non-trainable params: 0\n",
            "__________________________________________________________________________________________________\n"
          ],
          "name": "stdout"
        }
      ]
    },
    {
      "cell_type": "code",
      "metadata": {
        "id": "AmWZsrnveWXr",
        "colab_type": "code",
        "outputId": "e9634ddb-025d-4ca6-f97e-2409dae86cbd",
        "colab": {
          "base_uri": "https://localhost:8080/",
          "height": 187
        }
      },
      "source": [
        "model4.fit(train_sequence, Y_train, epochs=4, batch_size=512, validation_data=[cv_sequence, Y_cv])"
      ],
      "execution_count": 0,
      "outputs": [
        {
          "output_type": "stream",
          "text": [
            "Train on 1282192 samples, validate on 142466 samples\n",
            "Epoch 1/4\n",
            "1282192/1282192 [==============================] - 3407s 3ms/step - loss: 0.1435 - acc: 0.9465 - val_loss: 0.1267 - val_acc: 0.9496\n",
            "Epoch 2/4\n",
            "1282192/1282192 [==============================] - 3402s 3ms/step - loss: 0.1150 - acc: 0.9541 - val_loss: 0.1284 - val_acc: 0.9495\n",
            "Epoch 3/4\n",
            "1282192/1282192 [==============================] - 3397s 3ms/step - loss: 0.0936 - acc: 0.9622 - val_loss: 0.1432 - val_acc: 0.9477\n",
            "Epoch 4/4\n",
            "1282192/1282192 [==============================] - 3387s 3ms/step - loss: 0.0662 - acc: 0.9737 - val_loss: 0.1730 - val_acc: 0.9422\n"
          ],
          "name": "stdout"
        },
        {
          "output_type": "execute_result",
          "data": {
            "text/plain": [
              "<keras.callbacks.History at 0x7f2704459c50>"
            ]
          },
          "metadata": {
            "tags": []
          },
          "execution_count": 31
        }
      ]
    },
    {
      "cell_type": "code",
      "metadata": {
        "id": "I7rLqgNKDf-5",
        "colab_type": "code",
        "outputId": "e72956f1-71b4-439a-d43c-bab9ff8dba47",
        "colab": {
          "base_uri": "https://localhost:8080/",
          "height": 34
        }
      },
      "source": [
        "# Train auc\n",
        "predicted_y = model4.predict(train_sequence,batch_size=512)\n",
        "from sklearn.metrics import roc_auc_score\n",
        "print(roc_auc_score(Y_train,predicted_y))"
      ],
      "execution_count": 0,
      "outputs": [
        {
          "output_type": "stream",
          "text": [
            "0.9968805599682502\n"
          ],
          "name": "stdout"
        }
      ]
    },
    {
      "cell_type": "code",
      "metadata": {
        "id": "oZe8EaOlE5MS",
        "colab_type": "code",
        "outputId": "393f33fc-b55b-4aac-f5d1-9626ebd8c5f8",
        "colab": {
          "base_uri": "https://localhost:8080/",
          "height": 34
        }
      },
      "source": [
        "# Roc auc\n",
        "predicted_y = model4.predict(test_sequence,batch_size=512)\n",
        "from sklearn.metrics import roc_auc_score\n",
        "print(roc_auc_score(Y_test,predicted_y))\n"
      ],
      "execution_count": 0,
      "outputs": [
        {
          "output_type": "stream",
          "text": [
            "0.937064717518582\n"
          ],
          "name": "stdout"
        }
      ]
    },
    {
      "cell_type": "code",
      "metadata": {
        "id": "whFv3tqHTB0P",
        "colab_type": "code",
        "colab": {}
      },
      "source": [
        "y_pre = model4.predict(test_sequence1,batch_size=512)\n",
        "submission = pd.DataFrame({'id': test_df['id'].values})\n",
        "submission['prediction'] = y_pre\n",
        "submission.to_csv(\"submission12.csv\",index=False)\n"
      ],
      "execution_count": 0,
      "outputs": []
    },
    {
      "cell_type": "code",
      "metadata": {
        "id": "qFIT6L52X6Cr",
        "colab_type": "code",
        "colab": {}
      },
      "source": [
        "from google.colab import files\n",
        "files.download( \"/content/submission12.csv\" )  "
      ],
      "execution_count": 0,
      "outputs": []
    },
    {
      "cell_type": "markdown",
      "metadata": {
        "id": "udNfnvCt77z9",
        "colab_type": "text"
      },
      "source": [
        "# Fourth Arcitecture"
      ]
    },
    {
      "cell_type": "code",
      "metadata": {
        "id": "-kNfyrgT43rj",
        "colab_type": "code",
        "outputId": "25dc7a34-3909-4753-90ee-592e1558a6cf",
        "colab": {
          "base_uri": "https://localhost:8080/",
          "height": 326
        }
      },
      "source": [
        "!pip install keras-self-attention"
      ],
      "execution_count": 31,
      "outputs": [
        {
          "output_type": "stream",
          "text": [
            "Collecting keras-self-attention\n",
            "  Downloading https://files.pythonhosted.org/packages/44/3e/eb1a7c7545eede073ceda2f5d78442b6cad33b5b750d7f0742866907c34b/keras-self-attention-0.42.0.tar.gz\n",
            "Requirement already satisfied: numpy in /usr/local/lib/python3.6/dist-packages (from keras-self-attention) (1.16.5)\n",
            "Requirement already satisfied: Keras in /usr/local/lib/python3.6/dist-packages (from keras-self-attention) (2.2.5)\n",
            "Requirement already satisfied: scipy>=0.14 in /usr/local/lib/python3.6/dist-packages (from Keras->keras-self-attention) (1.3.1)\n",
            "Requirement already satisfied: h5py in /usr/local/lib/python3.6/dist-packages (from Keras->keras-self-attention) (2.8.0)\n",
            "Requirement already satisfied: pyyaml in /usr/local/lib/python3.6/dist-packages (from Keras->keras-self-attention) (3.13)\n",
            "Requirement already satisfied: keras-preprocessing>=1.1.0 in /usr/local/lib/python3.6/dist-packages (from Keras->keras-self-attention) (1.1.0)\n",
            "Requirement already satisfied: keras-applications>=1.0.8 in /usr/local/lib/python3.6/dist-packages (from Keras->keras-self-attention) (1.0.8)\n",
            "Requirement already satisfied: six>=1.9.0 in /usr/local/lib/python3.6/dist-packages (from Keras->keras-self-attention) (1.12.0)\n",
            "Building wheels for collected packages: keras-self-attention\n",
            "  Building wheel for keras-self-attention (setup.py) ... \u001b[?25l\u001b[?25hdone\n",
            "  Created wheel for keras-self-attention: filename=keras_self_attention-0.42.0-cp36-none-any.whl size=17296 sha256=1b6748e2be03d9d3f6e020ff3336076401e4edf7ec86551552a8fce209a7b832\n",
            "  Stored in directory: /root/.cache/pip/wheels/7b/05/a0/99c0cf60d383f0494e10eca2b238ea98faca9a1fe03cac2894\n",
            "Successfully built keras-self-attention\n",
            "Installing collected packages: keras-self-attention\n",
            "Successfully installed keras-self-attention-0.42.0\n"
          ],
          "name": "stdout"
        }
      ]
    },
    {
      "cell_type": "code",
      "metadata": {
        "id": "9l43xwPS43kK",
        "colab_type": "code",
        "outputId": "f39eb9b1-50a7-479b-c444-d157f7d79b7a",
        "colab": {
          "base_uri": "https://localhost:8080/",
          "height": 731
        }
      },
      "source": [
        "import keras\n",
        "from keras.models import Sequential\n",
        "from keras.layers import Dense\n",
        "from keras.layers import LSTM, GRU\n",
        "from keras.layers.embeddings import Embedding\n",
        "from keras.preprocessing import sequence\n",
        "from keras.layers import MaxPooling1D, Reshape\n",
        "from keras.layers import Flatten, GlobalMaxPool1D, GlobalAveragePooling1D\n",
        "from keras.layers import Dropout, BatchNormalization, Input, SpatialDropout1D\n",
        "from keras.layers import Dense, Bidirectional, concatenate\n",
        "from keras.models import Model\n",
        "from keras.optimizers import Adam\n",
        "from keras_self_attention import SeqSelfAttention\n",
        "\n",
        "\n",
        "embedding_vector_length = 300\n",
        "input1 = Input(shape=(150,))\n",
        "e1 = Embedding(vocab_size,embedding_vector_length, input_length=150, weights=[embedding_matrix], trainable=False)(input1)\n",
        "x1 = Dropout(0.2)(e1)\n",
        "x1 = Bidirectional(LSTM(120, return_sequences=True))(e1)\n",
        "#lstm_att = SeqSelfAttention(attention_activation='sigmoid')(x1)\n",
        "\n",
        "gru1, fh_state, bh_state = Bidirectional(GRU(60, return_sequences= True, return_state=True))(x1)\n",
        "#x2 = SeqSelfAttention(attention_activation='sigmoid')(x2)\n",
        "\n",
        "h_state = concatenate([fh_state, bh_state])\n",
        "h_state = Reshape((-1,120))(h_state )\n",
        "\n",
        "h_avg = GlobalAveragePooling1D()(gru1)\n",
        "h_max = GlobalMaxPool1D()(gru1)\n",
        "\n",
        "h_avg = Reshape((-1,120))(h_avg )\n",
        "h_max = Reshape((-1,120))(h_max )\n",
        "\n",
        "\n",
        "x = concatenate([h_state, h_avg, h_max])\n",
        "x = Dense(20, activation='relu')(x)\n",
        "x = Dropout(0.1)(x)\n",
        "x = Flatten()(x)\n",
        "#print(x)\n",
        "output = Dense(1, activation='sigmoid')(x)\n",
        "model5 = Model(inputs=[input1,], outputs = output)\n",
        "#adam = Adam(lr=0.001)\n",
        "model5.compile(loss= 'binary_crossentropy' , optimizer= 'adam', metrics=['accuracy',])\n",
        "model5.summary()"
      ],
      "execution_count": 50,
      "outputs": [
        {
          "output_type": "stream",
          "text": [
            "Tensor(\"flatten_10/Reshape:0\", shape=(?, ?), dtype=float32)\n",
            "Model: \"model_4\"\n",
            "__________________________________________________________________________________________________\n",
            "Layer (type)                    Output Shape         Param #     Connected to                     \n",
            "==================================================================================================\n",
            "input_18 (InputLayer)           (None, 150)          0                                            \n",
            "__________________________________________________________________________________________________\n",
            "embedding_18 (Embedding)        (None, 150, 300)     71461200    input_18[0][0]                   \n",
            "__________________________________________________________________________________________________\n",
            "bidirectional_30 (Bidirectional (None, 150, 240)     404160      embedding_18[0][0]               \n",
            "__________________________________________________________________________________________________\n",
            "bidirectional_31 (Bidirectional [(None, 150, 120), ( 108360      bidirectional_30[0][0]           \n",
            "__________________________________________________________________________________________________\n",
            "concatenate_22 (Concatenate)    (None, 120)          0           bidirectional_31[0][1]           \n",
            "                                                                 bidirectional_31[0][2]           \n",
            "__________________________________________________________________________________________________\n",
            "global_average_pooling1d_7 (Glo (None, 120)          0           bidirectional_31[0][0]           \n",
            "__________________________________________________________________________________________________\n",
            "global_max_pooling1d_14 (Global (None, 120)          0           bidirectional_31[0][0]           \n",
            "__________________________________________________________________________________________________\n",
            "reshape_12 (Reshape)            (None, 1, 120)       0           concatenate_22[0][0]             \n",
            "__________________________________________________________________________________________________\n",
            "reshape_13 (Reshape)            (None, 1, 120)       0           global_average_pooling1d_7[0][0] \n",
            "__________________________________________________________________________________________________\n",
            "reshape_14 (Reshape)            (None, 1, 120)       0           global_max_pooling1d_14[0][0]    \n",
            "__________________________________________________________________________________________________\n",
            "concatenate_23 (Concatenate)    (None, 1, 360)       0           reshape_12[0][0]                 \n",
            "                                                                 reshape_13[0][0]                 \n",
            "                                                                 reshape_14[0][0]                 \n",
            "__________________________________________________________________________________________________\n",
            "dense_7 (Dense)                 (None, 1, 20)        7220        concatenate_23[0][0]             \n",
            "__________________________________________________________________________________________________\n",
            "dropout_21 (Dropout)            (None, 1, 20)        0           dense_7[0][0]                    \n",
            "__________________________________________________________________________________________________\n",
            "flatten_10 (Flatten)            (None, 20)           0           dropout_21[0][0]                 \n",
            "__________________________________________________________________________________________________\n",
            "dense_8 (Dense)                 (None, 1)            21          flatten_10[0][0]                 \n",
            "==================================================================================================\n",
            "Total params: 71,980,961\n",
            "Trainable params: 519,761\n",
            "Non-trainable params: 71,461,200\n",
            "__________________________________________________________________________________________________\n"
          ],
          "name": "stdout"
        }
      ]
    },
    {
      "cell_type": "code",
      "metadata": {
        "id": "nWCvIKgc43hW",
        "colab_type": "code",
        "outputId": "cef172db-22c2-40f2-dd4a-ef0a51df406e",
        "colab": {
          "base_uri": "https://localhost:8080/",
          "height": 255
        }
      },
      "source": [
        "model5.fit(train_sequence, Y_train, epochs=6, batch_size=512, validation_data=[cv_sequence, Y_cv])"
      ],
      "execution_count": 51,
      "outputs": [
        {
          "output_type": "stream",
          "text": [
            "Train on 1282192 samples, validate on 142466 samples\n",
            "Epoch 1/6\n",
            "1282192/1282192 [==============================] - 2724s 2ms/step - loss: 0.1427 - acc: 0.9465 - val_loss: 0.1264 - val_acc: 0.9503\n",
            "Epoch 2/6\n",
            "1282192/1282192 [==============================] - 2730s 2ms/step - loss: 0.1237 - acc: 0.9516 - val_loss: 0.1253 - val_acc: 0.9507\n",
            "Epoch 3/6\n",
            "1282192/1282192 [==============================] - 2724s 2ms/step - loss: 0.1171 - acc: 0.9535 - val_loss: 0.1219 - val_acc: 0.9519\n",
            "Epoch 4/6\n",
            "1282192/1282192 [==============================] - 2713s 2ms/step - loss: 0.1104 - acc: 0.9556 - val_loss: 0.1253 - val_acc: 0.9505\n",
            "Epoch 5/6\n",
            "1282192/1282192 [==============================] - 2713s 2ms/step - loss: 0.1026 - acc: 0.9581 - val_loss: 0.1263 - val_acc: 0.9506\n",
            "Epoch 6/6\n",
            "1282192/1282192 [==============================] - 2724s 2ms/step - loss: 0.0933 - acc: 0.9612 - val_loss: 0.1340 - val_acc: 0.9492\n"
          ],
          "name": "stdout"
        },
        {
          "output_type": "execute_result",
          "data": {
            "text/plain": [
              "<keras.callbacks.History at 0x7f0cc1757d68>"
            ]
          },
          "metadata": {
            "tags": []
          },
          "execution_count": 51
        }
      ]
    },
    {
      "cell_type": "code",
      "metadata": {
        "id": "9lfqtrN-Ggkm",
        "colab_type": "code",
        "colab": {}
      },
      "source": [
        "# Creating loss metric\n",
        "j_eval = JigsawEvaluator(y_binary, y_identity_binary)"
      ],
      "execution_count": 0,
      "outputs": []
    },
    {
      "cell_type": "code",
      "metadata": {
        "id": "HeO14m8dGz4B",
        "colab_type": "code",
        "colab": {}
      },
      "source": [
        "predicted_y = model5.predict(test_sequence,batch_size=512)\n",
        "final_auc = j_eval.get_final_metric(predicted_y)"
      ],
      "execution_count": 0,
      "outputs": []
    },
    {
      "cell_type": "code",
      "metadata": {
        "id": "k7k952YEFukt",
        "colab_type": "code",
        "outputId": "03b89787-3d2e-4e2c-c535-954d80687861",
        "colab": {
          "base_uri": "https://localhost:8080/",
          "height": 34
        }
      },
      "source": [
        "# This is the auc metric that was given by kaggle.\n",
        "print(\"Auc of the model is {}\".format(final_auc))"
      ],
      "execution_count": 54,
      "outputs": [
        {
          "output_type": "stream",
          "text": [
            "Auc of the model is 0.9118993070137469\n"
          ],
          "name": "stdout"
        }
      ]
    },
    {
      "cell_type": "code",
      "metadata": {
        "id": "oB6Y70mXOUwH",
        "colab_type": "code",
        "colab": {}
      },
      "source": [
        "predicted_y1 = (predicted_y >= 0.5).astype(int)"
      ],
      "execution_count": 0,
      "outputs": []
    },
    {
      "cell_type": "code",
      "metadata": {
        "id": "8B6xpRPmOIjq",
        "colab_type": "code",
        "outputId": "31fe59ae-6392-4247-f019-e4abc49295b4",
        "colab": {
          "base_uri": "https://localhost:8080/",
          "height": 34
        }
      },
      "source": [
        "# This is the simple auc on test data\n",
        "print(roc_auc_score(Y_test, predicted_y))"
      ],
      "execution_count": 56,
      "outputs": [
        {
          "output_type": "stream",
          "text": [
            "0.9550143824173905\n"
          ],
          "name": "stdout"
        }
      ]
    },
    {
      "cell_type": "code",
      "metadata": {
        "id": "gRxZjb0lKNb7",
        "colab_type": "code",
        "colab": {}
      },
      "source": [
        "predict_y = model5.predict(test_sequence1,batch_size=512)"
      ],
      "execution_count": 0,
      "outputs": []
    },
    {
      "cell_type": "code",
      "metadata": {
        "id": "mhQ4i1ur7QnY",
        "colab_type": "code",
        "colab": {}
      },
      "source": [
        "# saving model to google drive\n",
        "from keras.models import load_model\n",
        "model5.save(\"/content/drive/My Drive/Project/my_model5.h5\")"
      ],
      "execution_count": 0,
      "outputs": []
    },
    {
      "cell_type": "code",
      "metadata": {
        "id": "0zSl7Cnz43U5",
        "colab_type": "code",
        "colab": {}
      },
      "source": [
        "#y_pre = model5.predict(test_sequence1,batch_size=32)\n",
        "submission = pd.DataFrame({'id': test_df['id'].values})\n",
        "submission['prediction'] = predict_y\n",
        "submission.to_csv(\"submission18.csv\",index=False)"
      ],
      "execution_count": 0,
      "outputs": []
    },
    {
      "cell_type": "code",
      "metadata": {
        "id": "Z4K80WM42s9q",
        "colab_type": "code",
        "colab": {}
      },
      "source": [
        "from google.colab import files\n",
        "files.download( \"/content/submission18.csv\" )  "
      ],
      "execution_count": 0,
      "outputs": []
    },
    {
      "cell_type": "markdown",
      "metadata": {
        "id": "eanGYB2fDNVk",
        "colab_type": "text"
      },
      "source": [
        "# Conclusion"
      ]
    },
    {
      "cell_type": "code",
      "metadata": {
        "id": "DdSq7i99e70t",
        "colab_type": "code",
        "outputId": "073fbfe2-0005-46ec-8c7d-1a3448de99b7",
        "colab": {
          "base_uri": "https://localhost:8080/",
          "height": 204
        }
      },
      "source": [
        "from prettytable import PrettyTable\n",
        "\n",
        "x = PrettyTable(['model','vectorizer','test auc'])\n",
        "x.add_row(['Logistic Regression','tfidf unigram','0.9465'])\n",
        "x.add_row(['Naive Bayes','tfidf unigram','0.8755'])\n",
        "x.add_row(['1 layered Bi-LSTM + self attention layer','glove 100dim ','0.8823'])\n",
        "x.add_row(['1 layered Bi-LSTM','glove 100dim','0.9038'])\n",
        "x.add_row(['2 layered Bi-LSTM(200 units)','glove 100dim ','0.9373'])\n",
        "x.add_row(['2 layered Bi-LSTM(128 units)','glove 100dim ','0.9370'])\n",
        "x.add_row(['1 layered Bi-LSTM(120 units) + 1 layered Bi-gru(60) units','glove 300dim ','0.9550'])\n",
        "print(x)"
      ],
      "execution_count": 3,
      "outputs": [
        {
          "output_type": "stream",
          "text": [
            "+-----------------------------------------------------------+---------------+----------+\n",
            "|                           model                           |   vectorizer  | test auc |\n",
            "+-----------------------------------------------------------+---------------+----------+\n",
            "|                    Logistic Regression                    | tfidf unigram |  0.9465  |\n",
            "|                        Naive Bayes                        | tfidf unigram |  0.8755  |\n",
            "|          1 layered Bi-LSTM + self attention layer         | glove 100dim  |  0.8823  |\n",
            "|                     1 layered Bi-LSTM                     |  glove 100dim |  0.9038  |\n",
            "|                2 layered Bi-LSTM(200 units)               | glove 100dim  |  0.9373  |\n",
            "|                2 layered Bi-LSTM(128 units)               | glove 100dim  |  0.9370  |\n",
            "| 1 layered Bi-LSTM(120 units) + 1 layered Bi-gru(60) units | glove 300dim  |  0.9550  |\n",
            "+-----------------------------------------------------------+---------------+----------+\n"
          ],
          "name": "stdout"
        }
      ]
    },
    {
      "cell_type": "markdown",
      "metadata": {
        "id": "HX3UKgS38vov",
        "colab_type": "text"
      },
      "source": [
        "## The best model that we had was the fourth and the last model that gave us an auc of 0.9176 on the kaggle private leader board."
      ]
    }
  ]
}